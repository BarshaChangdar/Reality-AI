{
  "cells": [
    {
      "cell_type": "markdown",
      "metadata": {
        "id": "en3HRYth_zhQ"
      },
      "source": [
        "Set up the environment"
      ]
    },
    {
      "cell_type": "code",
      "source": [
        "!pip install --upgrade pip\n",
        "!pip install category_encoders\n"
      ],
      "metadata": {
        "colab": {
          "base_uri": "https://localhost:8080/"
        },
        "id": "FAGY3PxYXlCs",
        "outputId": "8a315d7e-cd63-45bf-f79e-ea892c9a852a"
      },
      "execution_count": null,
      "outputs": [
        {
          "output_type": "stream",
          "name": "stdout",
          "text": [
            "Requirement already satisfied: pip in /usr/local/lib/python3.12/dist-packages (25.2)\n",
            "Requirement already satisfied: category_encoders in /usr/local/lib/python3.12/dist-packages (2.8.1)\n",
            "Requirement already satisfied: numpy>=1.14.0 in /usr/local/lib/python3.12/dist-packages (from category_encoders) (2.0.2)\n",
            "Requirement already satisfied: pandas>=1.0.5 in /usr/local/lib/python3.12/dist-packages (from category_encoders) (2.2.2)\n",
            "Requirement already satisfied: patsy>=0.5.1 in /usr/local/lib/python3.12/dist-packages (from category_encoders) (1.0.1)\n",
            "Requirement already satisfied: scikit-learn>=1.6.0 in /usr/local/lib/python3.12/dist-packages (from category_encoders) (1.6.1)\n",
            "Requirement already satisfied: scipy>=1.0.0 in /usr/local/lib/python3.12/dist-packages (from category_encoders) (1.16.2)\n",
            "Requirement already satisfied: statsmodels>=0.9.0 in /usr/local/lib/python3.12/dist-packages (from category_encoders) (0.14.5)\n",
            "Requirement already satisfied: python-dateutil>=2.8.2 in /usr/local/lib/python3.12/dist-packages (from pandas>=1.0.5->category_encoders) (2.9.0.post0)\n",
            "Requirement already satisfied: pytz>=2020.1 in /usr/local/lib/python3.12/dist-packages (from pandas>=1.0.5->category_encoders) (2025.2)\n",
            "Requirement already satisfied: tzdata>=2022.7 in /usr/local/lib/python3.12/dist-packages (from pandas>=1.0.5->category_encoders) (2025.2)\n",
            "Requirement already satisfied: six>=1.5 in /usr/local/lib/python3.12/dist-packages (from python-dateutil>=2.8.2->pandas>=1.0.5->category_encoders) (1.17.0)\n",
            "Requirement already satisfied: joblib>=1.2.0 in /usr/local/lib/python3.12/dist-packages (from scikit-learn>=1.6.0->category_encoders) (1.5.2)\n",
            "Requirement already satisfied: threadpoolctl>=3.1.0 in /usr/local/lib/python3.12/dist-packages (from scikit-learn>=1.6.0->category_encoders) (3.6.0)\n",
            "Requirement already satisfied: packaging>=21.3 in /usr/local/lib/python3.12/dist-packages (from statsmodels>=0.9.0->category_encoders) (25.0)\n"
          ]
        }
      ]
    },
    {
      "cell_type": "code",
      "source": [
        "from google.colab import drive\n",
        "drive.mount('/content/drive')"
      ],
      "metadata": {
        "colab": {
          "base_uri": "https://localhost:8080/"
        },
        "id": "Ho7_lfDTX3Pl",
        "outputId": "7fef8894-b588-41e5-e864-833f4cb5e554"
      },
      "execution_count": null,
      "outputs": [
        {
          "output_type": "stream",
          "name": "stdout",
          "text": [
            "Drive already mounted at /content/drive; to attempt to forcibly remount, call drive.mount(\"/content/drive\", force_remount=True).\n"
          ]
        }
      ]
    },
    {
      "cell_type": "code",
      "execution_count": null,
      "metadata": {
        "colab": {
          "base_uri": "https://localhost:8080/",
          "height": 346
        },
        "id": "RqOTutQ7_0LD",
        "outputId": "42c6a49c-af1e-42fb-ab54-acd7466c4560"
      },
      "outputs": [
        {
          "output_type": "stream",
          "name": "stdout",
          "text": [
            "Drive already mounted at /content/drive; to attempt to forcibly remount, call drive.mount(\"/content/drive\", force_remount=True).\n"
          ]
        },
        {
          "output_type": "execute_result",
          "data": {
            "text/plain": [
              "                                      Name  \\\n",
              "0                         Casagrand ECR 14   \n",
              "1    Ramanathan Nagar, Pozhichalur,Chennai   \n",
              "2                              DAC Prapthi   \n",
              "3  Naveenilaya,Chepauk, Triplicane,Chennai   \n",
              "4                 VGN Spring Field Phase 1   \n",
              "\n",
              "                                      Property Title     Price  \\\n",
              "0  4 BHK Flat for sale in Kanathur Reddikuppam, C...  ₹1.99 Cr   \n",
              "1  10 BHK Independent House for sale in Pozhichal...  ₹2.25 Cr   \n",
              "2      3 BHK Flat for sale in West Tambaram, Chennai   ₹1.0 Cr   \n",
              "3  7 BHK Independent House for sale in Triplicane...  ₹3.33 Cr   \n",
              "4              2 BHK Flat for sale in Avadi, Chennai   ₹48.0 L   \n",
              "\n",
              "                                   Location  Total_Area  Price_per_SQFT  \\\n",
              "0             Kanathur Reddikuppam, Chennai        2583          7700.0   \n",
              "1     Ramanathan Nagar, Pozhichalur,Chennai        7000          3210.0   \n",
              "2  Kasthuribai Nagar, West Tambaram,Chennai        1320          7580.0   \n",
              "3   Naveenilaya,Chepauk, Triplicane,Chennai        4250          7840.0   \n",
              "4                            Avadi, Chennai         960          5000.0   \n",
              "\n",
              "                                         Description  Baths Balcony  \n",
              "0  Best 4 BHK Apartment for modern-day lifestyle ...      4     Yes  \n",
              "1  Looking for a 10 BHK Independent House for sal...      6     Yes  \n",
              "2  Property for sale in Tambaram, Chennai. This 3...      3      No  \n",
              "3  Entire Building for sale with 7 units of singl...      5     Yes  \n",
              "4  Property for sale in Avadi, Chennai. This 2 BH...      3     Yes  "
            ],
            "text/html": [
              "\n",
              "  <div id=\"df-42f20761-b05a-4d46-b7e2-c604d41ed2be\" class=\"colab-df-container\">\n",
              "    <div>\n",
              "<style scoped>\n",
              "    .dataframe tbody tr th:only-of-type {\n",
              "        vertical-align: middle;\n",
              "    }\n",
              "\n",
              "    .dataframe tbody tr th {\n",
              "        vertical-align: top;\n",
              "    }\n",
              "\n",
              "    .dataframe thead th {\n",
              "        text-align: right;\n",
              "    }\n",
              "</style>\n",
              "<table border=\"1\" class=\"dataframe\">\n",
              "  <thead>\n",
              "    <tr style=\"text-align: right;\">\n",
              "      <th></th>\n",
              "      <th>Name</th>\n",
              "      <th>Property Title</th>\n",
              "      <th>Price</th>\n",
              "      <th>Location</th>\n",
              "      <th>Total_Area</th>\n",
              "      <th>Price_per_SQFT</th>\n",
              "      <th>Description</th>\n",
              "      <th>Baths</th>\n",
              "      <th>Balcony</th>\n",
              "    </tr>\n",
              "  </thead>\n",
              "  <tbody>\n",
              "    <tr>\n",
              "      <th>0</th>\n",
              "      <td>Casagrand ECR 14</td>\n",
              "      <td>4 BHK Flat for sale in Kanathur Reddikuppam, C...</td>\n",
              "      <td>₹1.99 Cr</td>\n",
              "      <td>Kanathur Reddikuppam, Chennai</td>\n",
              "      <td>2583</td>\n",
              "      <td>7700.0</td>\n",
              "      <td>Best 4 BHK Apartment for modern-day lifestyle ...</td>\n",
              "      <td>4</td>\n",
              "      <td>Yes</td>\n",
              "    </tr>\n",
              "    <tr>\n",
              "      <th>1</th>\n",
              "      <td>Ramanathan Nagar, Pozhichalur,Chennai</td>\n",
              "      <td>10 BHK Independent House for sale in Pozhichal...</td>\n",
              "      <td>₹2.25 Cr</td>\n",
              "      <td>Ramanathan Nagar, Pozhichalur,Chennai</td>\n",
              "      <td>7000</td>\n",
              "      <td>3210.0</td>\n",
              "      <td>Looking for a 10 BHK Independent House for sal...</td>\n",
              "      <td>6</td>\n",
              "      <td>Yes</td>\n",
              "    </tr>\n",
              "    <tr>\n",
              "      <th>2</th>\n",
              "      <td>DAC Prapthi</td>\n",
              "      <td>3 BHK Flat for sale in West Tambaram, Chennai</td>\n",
              "      <td>₹1.0 Cr</td>\n",
              "      <td>Kasthuribai Nagar, West Tambaram,Chennai</td>\n",
              "      <td>1320</td>\n",
              "      <td>7580.0</td>\n",
              "      <td>Property for sale in Tambaram, Chennai. This 3...</td>\n",
              "      <td>3</td>\n",
              "      <td>No</td>\n",
              "    </tr>\n",
              "    <tr>\n",
              "      <th>3</th>\n",
              "      <td>Naveenilaya,Chepauk, Triplicane,Chennai</td>\n",
              "      <td>7 BHK Independent House for sale in Triplicane...</td>\n",
              "      <td>₹3.33 Cr</td>\n",
              "      <td>Naveenilaya,Chepauk, Triplicane,Chennai</td>\n",
              "      <td>4250</td>\n",
              "      <td>7840.0</td>\n",
              "      <td>Entire Building for sale with 7 units of singl...</td>\n",
              "      <td>5</td>\n",
              "      <td>Yes</td>\n",
              "    </tr>\n",
              "    <tr>\n",
              "      <th>4</th>\n",
              "      <td>VGN Spring Field Phase 1</td>\n",
              "      <td>2 BHK Flat for sale in Avadi, Chennai</td>\n",
              "      <td>₹48.0 L</td>\n",
              "      <td>Avadi, Chennai</td>\n",
              "      <td>960</td>\n",
              "      <td>5000.0</td>\n",
              "      <td>Property for sale in Avadi, Chennai. This 2 BH...</td>\n",
              "      <td>3</td>\n",
              "      <td>Yes</td>\n",
              "    </tr>\n",
              "  </tbody>\n",
              "</table>\n",
              "</div>\n",
              "    <div class=\"colab-df-buttons\">\n",
              "\n",
              "  <div class=\"colab-df-container\">\n",
              "    <button class=\"colab-df-convert\" onclick=\"convertToInteractive('df-42f20761-b05a-4d46-b7e2-c604d41ed2be')\"\n",
              "            title=\"Convert this dataframe to an interactive table.\"\n",
              "            style=\"display:none;\">\n",
              "\n",
              "  <svg xmlns=\"http://www.w3.org/2000/svg\" height=\"24px\" viewBox=\"0 -960 960 960\">\n",
              "    <path d=\"M120-120v-720h720v720H120Zm60-500h600v-160H180v160Zm220 220h160v-160H400v160Zm0 220h160v-160H400v160ZM180-400h160v-160H180v160Zm440 0h160v-160H620v160ZM180-180h160v-160H180v160Zm440 0h160v-160H620v160Z\"/>\n",
              "  </svg>\n",
              "    </button>\n",
              "\n",
              "  <style>\n",
              "    .colab-df-container {\n",
              "      display:flex;\n",
              "      gap: 12px;\n",
              "    }\n",
              "\n",
              "    .colab-df-convert {\n",
              "      background-color: #E8F0FE;\n",
              "      border: none;\n",
              "      border-radius: 50%;\n",
              "      cursor: pointer;\n",
              "      display: none;\n",
              "      fill: #1967D2;\n",
              "      height: 32px;\n",
              "      padding: 0 0 0 0;\n",
              "      width: 32px;\n",
              "    }\n",
              "\n",
              "    .colab-df-convert:hover {\n",
              "      background-color: #E2EBFA;\n",
              "      box-shadow: 0px 1px 2px rgba(60, 64, 67, 0.3), 0px 1px 3px 1px rgba(60, 64, 67, 0.15);\n",
              "      fill: #174EA6;\n",
              "    }\n",
              "\n",
              "    .colab-df-buttons div {\n",
              "      margin-bottom: 4px;\n",
              "    }\n",
              "\n",
              "    [theme=dark] .colab-df-convert {\n",
              "      background-color: #3B4455;\n",
              "      fill: #D2E3FC;\n",
              "    }\n",
              "\n",
              "    [theme=dark] .colab-df-convert:hover {\n",
              "      background-color: #434B5C;\n",
              "      box-shadow: 0px 1px 3px 1px rgba(0, 0, 0, 0.15);\n",
              "      filter: drop-shadow(0px 1px 2px rgba(0, 0, 0, 0.3));\n",
              "      fill: #FFFFFF;\n",
              "    }\n",
              "  </style>\n",
              "\n",
              "    <script>\n",
              "      const buttonEl =\n",
              "        document.querySelector('#df-42f20761-b05a-4d46-b7e2-c604d41ed2be button.colab-df-convert');\n",
              "      buttonEl.style.display =\n",
              "        google.colab.kernel.accessAllowed ? 'block' : 'none';\n",
              "\n",
              "      async function convertToInteractive(key) {\n",
              "        const element = document.querySelector('#df-42f20761-b05a-4d46-b7e2-c604d41ed2be');\n",
              "        const dataTable =\n",
              "          await google.colab.kernel.invokeFunction('convertToInteractive',\n",
              "                                                    [key], {});\n",
              "        if (!dataTable) return;\n",
              "\n",
              "        const docLinkHtml = 'Like what you see? Visit the ' +\n",
              "          '<a target=\"_blank\" href=https://colab.research.google.com/notebooks/data_table.ipynb>data table notebook</a>'\n",
              "          + ' to learn more about interactive tables.';\n",
              "        element.innerHTML = '';\n",
              "        dataTable['output_type'] = 'display_data';\n",
              "        await google.colab.output.renderOutput(dataTable, element);\n",
              "        const docLink = document.createElement('div');\n",
              "        docLink.innerHTML = docLinkHtml;\n",
              "        element.appendChild(docLink);\n",
              "      }\n",
              "    </script>\n",
              "  </div>\n",
              "\n",
              "\n",
              "    <div id=\"df-f7dfc722-2c2d-42c7-8fa8-0cf7605387d9\">\n",
              "      <button class=\"colab-df-quickchart\" onclick=\"quickchart('df-f7dfc722-2c2d-42c7-8fa8-0cf7605387d9')\"\n",
              "                title=\"Suggest charts\"\n",
              "                style=\"display:none;\">\n",
              "\n",
              "<svg xmlns=\"http://www.w3.org/2000/svg\" height=\"24px\"viewBox=\"0 0 24 24\"\n",
              "     width=\"24px\">\n",
              "    <g>\n",
              "        <path d=\"M19 3H5c-1.1 0-2 .9-2 2v14c0 1.1.9 2 2 2h14c1.1 0 2-.9 2-2V5c0-1.1-.9-2-2-2zM9 17H7v-7h2v7zm4 0h-2V7h2v10zm4 0h-2v-4h2v4z\"/>\n",
              "    </g>\n",
              "</svg>\n",
              "      </button>\n",
              "\n",
              "<style>\n",
              "  .colab-df-quickchart {\n",
              "      --bg-color: #E8F0FE;\n",
              "      --fill-color: #1967D2;\n",
              "      --hover-bg-color: #E2EBFA;\n",
              "      --hover-fill-color: #174EA6;\n",
              "      --disabled-fill-color: #AAA;\n",
              "      --disabled-bg-color: #DDD;\n",
              "  }\n",
              "\n",
              "  [theme=dark] .colab-df-quickchart {\n",
              "      --bg-color: #3B4455;\n",
              "      --fill-color: #D2E3FC;\n",
              "      --hover-bg-color: #434B5C;\n",
              "      --hover-fill-color: #FFFFFF;\n",
              "      --disabled-bg-color: #3B4455;\n",
              "      --disabled-fill-color: #666;\n",
              "  }\n",
              "\n",
              "  .colab-df-quickchart {\n",
              "    background-color: var(--bg-color);\n",
              "    border: none;\n",
              "    border-radius: 50%;\n",
              "    cursor: pointer;\n",
              "    display: none;\n",
              "    fill: var(--fill-color);\n",
              "    height: 32px;\n",
              "    padding: 0;\n",
              "    width: 32px;\n",
              "  }\n",
              "\n",
              "  .colab-df-quickchart:hover {\n",
              "    background-color: var(--hover-bg-color);\n",
              "    box-shadow: 0 1px 2px rgba(60, 64, 67, 0.3), 0 1px 3px 1px rgba(60, 64, 67, 0.15);\n",
              "    fill: var(--button-hover-fill-color);\n",
              "  }\n",
              "\n",
              "  .colab-df-quickchart-complete:disabled,\n",
              "  .colab-df-quickchart-complete:disabled:hover {\n",
              "    background-color: var(--disabled-bg-color);\n",
              "    fill: var(--disabled-fill-color);\n",
              "    box-shadow: none;\n",
              "  }\n",
              "\n",
              "  .colab-df-spinner {\n",
              "    border: 2px solid var(--fill-color);\n",
              "    border-color: transparent;\n",
              "    border-bottom-color: var(--fill-color);\n",
              "    animation:\n",
              "      spin 1s steps(1) infinite;\n",
              "  }\n",
              "\n",
              "  @keyframes spin {\n",
              "    0% {\n",
              "      border-color: transparent;\n",
              "      border-bottom-color: var(--fill-color);\n",
              "      border-left-color: var(--fill-color);\n",
              "    }\n",
              "    20% {\n",
              "      border-color: transparent;\n",
              "      border-left-color: var(--fill-color);\n",
              "      border-top-color: var(--fill-color);\n",
              "    }\n",
              "    30% {\n",
              "      border-color: transparent;\n",
              "      border-left-color: var(--fill-color);\n",
              "      border-top-color: var(--fill-color);\n",
              "      border-right-color: var(--fill-color);\n",
              "    }\n",
              "    40% {\n",
              "      border-color: transparent;\n",
              "      border-right-color: var(--fill-color);\n",
              "      border-top-color: var(--fill-color);\n",
              "    }\n",
              "    60% {\n",
              "      border-color: transparent;\n",
              "      border-right-color: var(--fill-color);\n",
              "    }\n",
              "    80% {\n",
              "      border-color: transparent;\n",
              "      border-right-color: var(--fill-color);\n",
              "      border-bottom-color: var(--fill-color);\n",
              "    }\n",
              "    90% {\n",
              "      border-color: transparent;\n",
              "      border-bottom-color: var(--fill-color);\n",
              "    }\n",
              "  }\n",
              "</style>\n",
              "\n",
              "      <script>\n",
              "        async function quickchart(key) {\n",
              "          const quickchartButtonEl =\n",
              "            document.querySelector('#' + key + ' button');\n",
              "          quickchartButtonEl.disabled = true;  // To prevent multiple clicks.\n",
              "          quickchartButtonEl.classList.add('colab-df-spinner');\n",
              "          try {\n",
              "            const charts = await google.colab.kernel.invokeFunction(\n",
              "                'suggestCharts', [key], {});\n",
              "          } catch (error) {\n",
              "            console.error('Error during call to suggestCharts:', error);\n",
              "          }\n",
              "          quickchartButtonEl.classList.remove('colab-df-spinner');\n",
              "          quickchartButtonEl.classList.add('colab-df-quickchart-complete');\n",
              "        }\n",
              "        (() => {\n",
              "          let quickchartButtonEl =\n",
              "            document.querySelector('#df-f7dfc722-2c2d-42c7-8fa8-0cf7605387d9 button');\n",
              "          quickchartButtonEl.style.display =\n",
              "            google.colab.kernel.accessAllowed ? 'block' : 'none';\n",
              "        })();\n",
              "      </script>\n",
              "    </div>\n",
              "\n",
              "    </div>\n",
              "  </div>\n"
            ],
            "application/vnd.google.colaboratory.intrinsic+json": {
              "type": "dataframe",
              "variable_name": "df",
              "summary": "{\n  \"name\": \"df\",\n  \"rows\": 14528,\n  \"fields\": [\n    {\n      \"column\": \"Name\",\n      \"properties\": {\n        \"dtype\": \"string\",\n        \"num_unique_values\": 9998,\n        \"samples\": [\n          \"EAPL Sri Tirumala Millennium\",\n          \"Hasnabad, Santosh Nagar,Hyderabad\",\n          \"5th Stage, RR Nagar,Bangalore\"\n        ],\n        \"semantic_type\": \"\",\n        \"description\": \"\"\n      }\n    },\n    {\n      \"column\": \"Property Title\",\n      \"properties\": {\n        \"dtype\": \"category\",\n        \"num_unique_values\": 6507,\n        \"samples\": [\n          \"2 BHK Flat for sale in Kurla East, Mumbai\",\n          \"2 BHK Flat for sale in Kashewadi, Pune\",\n          \"4 BHK Independent House for sale in Narhe, Pune\"\n        ],\n        \"semantic_type\": \"\",\n        \"description\": \"\"\n      }\n    },\n    {\n      \"column\": \"Price\",\n      \"properties\": {\n        \"dtype\": \"category\",\n        \"num_unique_values\": 891,\n        \"samples\": [\n          \"\\u20b932.8 L\",\n          \"\\u20b935.0 Cr\",\n          \"\\u20b951.7 L\"\n        ],\n        \"semantic_type\": \"\",\n        \"description\": \"\"\n      }\n    },\n    {\n      \"column\": \"Location\",\n      \"properties\": {\n        \"dtype\": \"category\",\n        \"num_unique_values\": 7050,\n        \"samples\": [\n          \"Shree Shankaranand Society,Walvekar Nagar, Parvati Darshan,Pune\",\n          \"Elango Nagar, Padi,Chennai\",\n          \"Laxminarayana Layout, Munnekollal,Bangalore\"\n        ],\n        \"semantic_type\": \"\",\n        \"description\": \"\"\n      }\n    },\n    {\n      \"column\": \"Total_Area\",\n      \"properties\": {\n        \"dtype\": \"number\",\n        \"std\": 1245,\n        \"min\": 70,\n        \"max\": 35000,\n        \"num_unique_values\": 1774,\n        \"samples\": [\n          2187,\n          1378,\n          1491\n        ],\n        \"semantic_type\": \"\",\n        \"description\": \"\"\n      }\n    },\n    {\n      \"column\": \"Price_per_SQFT\",\n      \"properties\": {\n        \"dtype\": \"number\",\n        \"std\": 49036.068632130635,\n        \"min\": 0.0,\n        \"max\": 999000.0,\n        \"num_unique_values\": 2094,\n        \"samples\": [\n          27200.0,\n          19070.0,\n          884000.0\n        ],\n        \"semantic_type\": \"\",\n        \"description\": \"\"\n      }\n    },\n    {\n      \"column\": \"Description\",\n      \"properties\": {\n        \"dtype\": \"string\",\n        \"num_unique_values\": 14490,\n        \"samples\": [\n          \"3 BHK Apartment for sale in Kolkata. This property is in Kamardanga, which is a coveted investment location. This tastefully designed 3 BHK unit is among Kolkata's best properties. No brokerage to be paid for this property. This 3 BHK property is posted directly by Owner. Contact now for more details. This property in Kolkata is on floor 3. The total number of floors in this Apartment is 4. The price of the Apartment is Rs 32.0 L. Monthly maintenance charges come to Rs 0. It is best suited for all kinds of families. Because this property is spacious, with a built-up area of 750 Square feet. So...\",\n          \"Looking for a good 3 BHK Apartment in Kokapet, Hyderabad? This property is in one of Hyderabad's most popular locations. This is a no brokerage property. The property is on floor 9. Total number of floors is 12. Maintenance charges of this property is Rs 3500. This Apartment is available for Rs 1.95 Cr. This modern unit has a built-up area of 1680 Square feet. This property has a good view and is West-facing. There are 3 bedrooms and 3 bathroom. Lift is available in this Apartment. This is a gated community. Cctv facility is provided to ensure safety. Sports enthusiasts have multiple options s...\",\n          \"Looking for a 3 BHK Apartment for sale in Bengaluru? Your search ends here. Buy this 3 BHK property in Bengaluru's finest location, C V Raman Nagar. This is an owner listed property and there is no brokerage involved. It is on floor 2 out of 3 floors. This Apartment is available at a reasonable price of Rs 1.15 Cr. The built up area of this property is 1360 Square feet. There are a number of reputed schools in the vicinity such as Hello Kids - India, Kendriya Vidyalaya DRDO, and Global City International School. Medical facility is also close at hand with names like The Life Plus Hospital - Dr...\"\n        ],\n        \"semantic_type\": \"\",\n        \"description\": \"\"\n      }\n    },\n    {\n      \"column\": \"Baths\",\n      \"properties\": {\n        \"dtype\": \"number\",\n        \"std\": 0,\n        \"min\": 1,\n        \"max\": 6,\n        \"num_unique_values\": 6,\n        \"samples\": [\n          4,\n          6,\n          1\n        ],\n        \"semantic_type\": \"\",\n        \"description\": \"\"\n      }\n    },\n    {\n      \"column\": \"Balcony\",\n      \"properties\": {\n        \"dtype\": \"category\",\n        \"num_unique_values\": 2,\n        \"samples\": [\n          \"No\",\n          \"Yes\"\n        ],\n        \"semantic_type\": \"\",\n        \"description\": \"\"\n      }\n    }\n  ]\n}"
            }
          },
          "metadata": {},
          "execution_count": 10
        }
      ],
      "source": [
        "\n",
        "# 🏠 Mount Google Drive (if data is stored there)\n",
        "\n",
        "from google.colab import drive\n",
        "drive.mount('/content/drive')\n",
        "\n",
        "\n",
        "# 🧩 Install missing library (run only once)\n",
        "\n",
        "import sys\n",
        "!{sys.executable} -m pip install -q category_encoders\n",
        "\n",
        "\n",
        "# 📦 Import Libraries\n",
        "\n",
        "import pandas as pd\n",
        "import numpy as np\n",
        "import matplotlib.pyplot as plt\n",
        "import seaborn as sns\n",
        "\n",
        "# Machine Learning\n",
        "from sklearn.model_selection import train_test_split\n",
        "from sklearn.preprocessing import StandardScaler, LabelEncoder\n",
        "from sklearn.metrics import r2_score, mean_absolute_error, mean_squared_error\n",
        "from sklearn.linear_model import LinearRegression\n",
        "from sklearn.tree import DecisionTreeRegressor\n",
        "from sklearn.ensemble import RandomForestRegressor, GradientBoostingRegressor\n",
        "\n",
        "# Encoding\n",
        "import category_encoders as ce\n",
        "\n",
        "\n",
        "# 📂 Load Dataset\n",
        "\n",
        "\n",
        "# 🔹 Option 1: if your dataset is in Google Drive (recommended)\n",
        "# Example: /content/drive/MyDrive/Real Estate Data V21.csv\n",
        "df = pd.read_csv(\"/content/drive/MyDrive/Real Estate Data V21.csv\")\n",
        "\n",
        "# 🔹 Option 2: if it’s uploaded directly to Colab\n",
        "# df = pd.read_csv(\"/content/Real Estate Data V21.csv\")\n",
        "\n",
        "# Preview first 5 rows\n",
        "df.head()\n"
      ]
    },
    {
      "cell_type": "markdown",
      "metadata": {
        "id": "LGjws57JINn_"
      },
      "source": [
        "Data Cleaning and Preprocessing"
      ]
    },
    {
      "cell_type": "code",
      "execution_count": null,
      "metadata": {
        "id": "rLlRVwkzLUUs",
        "colab": {
          "base_uri": "https://localhost:8080/",
          "height": 565
        },
        "outputId": "a1449688-9ebc-4f0b-f2b3-24be04fa58b1"
      },
      "outputs": [
        {
          "output_type": "stream",
          "name": "stderr",
          "text": [
            "/tmp/ipython-input-3888834275.py:30: FutureWarning: Downcasting behavior in `replace` is deprecated and will be removed in a future version. To retain the old behavior, explicitly call `result.infer_objects(copy=False)`. To opt-in to the future behavior, set `pd.set_option('future.no_silent_downcasting', True)`\n",
            "  df[col] = df[col].replace({\"Yes\": 1, \"No\": 0}).fillna(0).astype(float)\n",
            "/tmp/ipython-input-3888834275.py:35: FutureWarning: A value is trying to be set on a copy of a DataFrame or Series through chained assignment using an inplace method.\n",
            "The behavior will change in pandas 3.0. This inplace method will never work because the intermediate object on which we are setting values always behaves as a copy.\n",
            "\n",
            "For example, when doing 'df[col].method(value, inplace=True)', try using 'df.method({col: value}, inplace=True)' or df[col] = df[col].method(value) instead, to perform the operation inplace on the original object.\n",
            "\n",
            "\n",
            "  df[\"Total_Area\"].fillna(df[\"Total_Area\"].median(), inplace=True)\n"
          ]
        },
        {
          "output_type": "stream",
          "name": "stdout",
          "text": [
            " Data cleaned successfully!\n",
            "Shape: (14528, 9)\n"
          ]
        },
        {
          "output_type": "execute_result",
          "data": {
            "text/plain": [
              "                                      Name  \\\n",
              "0                         Casagrand ECR 14   \n",
              "1    Ramanathan Nagar, Pozhichalur,Chennai   \n",
              "2                              DAC Prapthi   \n",
              "3  Naveenilaya,Chepauk, Triplicane,Chennai   \n",
              "4                 VGN Spring Field Phase 1   \n",
              "\n",
              "                                      Property Title       Price  \\\n",
              "0  4 BHK Flat for sale in Kanathur Reddikuppam, C...  19900000.0   \n",
              "1  10 BHK Independent House for sale in Pozhichal...  22500000.0   \n",
              "2      3 BHK Flat for sale in West Tambaram, Chennai  10000000.0   \n",
              "3  7 BHK Independent House for sale in Triplicane...  33300000.0   \n",
              "4              2 BHK Flat for sale in Avadi, Chennai   4800000.0   \n",
              "\n",
              "                                   Location  Total_Area  Price_per_SQFT  \\\n",
              "0             Kanathur Reddikuppam, Chennai        2583          7700.0   \n",
              "1     Ramanathan Nagar, Pozhichalur,Chennai        7000          3210.0   \n",
              "2  Kasthuribai Nagar, West Tambaram,Chennai        1320          7580.0   \n",
              "3   Naveenilaya,Chepauk, Triplicane,Chennai        4250          7840.0   \n",
              "4                            Avadi, Chennai         960          5000.0   \n",
              "\n",
              "                                         Description  Baths  Balcony  \n",
              "0  Best 4 BHK Apartment for modern-day lifestyle ...    4.0      1.0  \n",
              "1  Looking for a 10 BHK Independent House for sal...    6.0      1.0  \n",
              "2  Property for sale in Tambaram, Chennai. This 3...    3.0      0.0  \n",
              "3  Entire Building for sale with 7 units of singl...    5.0      1.0  \n",
              "4  Property for sale in Avadi, Chennai. This 2 BH...    3.0      1.0  "
            ],
            "text/html": [
              "\n",
              "  <div id=\"df-4ff83c12-aa27-4b13-9d4d-ad44af7944e5\" class=\"colab-df-container\">\n",
              "    <div>\n",
              "<style scoped>\n",
              "    .dataframe tbody tr th:only-of-type {\n",
              "        vertical-align: middle;\n",
              "    }\n",
              "\n",
              "    .dataframe tbody tr th {\n",
              "        vertical-align: top;\n",
              "    }\n",
              "\n",
              "    .dataframe thead th {\n",
              "        text-align: right;\n",
              "    }\n",
              "</style>\n",
              "<table border=\"1\" class=\"dataframe\">\n",
              "  <thead>\n",
              "    <tr style=\"text-align: right;\">\n",
              "      <th></th>\n",
              "      <th>Name</th>\n",
              "      <th>Property Title</th>\n",
              "      <th>Price</th>\n",
              "      <th>Location</th>\n",
              "      <th>Total_Area</th>\n",
              "      <th>Price_per_SQFT</th>\n",
              "      <th>Description</th>\n",
              "      <th>Baths</th>\n",
              "      <th>Balcony</th>\n",
              "    </tr>\n",
              "  </thead>\n",
              "  <tbody>\n",
              "    <tr>\n",
              "      <th>0</th>\n",
              "      <td>Casagrand ECR 14</td>\n",
              "      <td>4 BHK Flat for sale in Kanathur Reddikuppam, C...</td>\n",
              "      <td>19900000.0</td>\n",
              "      <td>Kanathur Reddikuppam, Chennai</td>\n",
              "      <td>2583</td>\n",
              "      <td>7700.0</td>\n",
              "      <td>Best 4 BHK Apartment for modern-day lifestyle ...</td>\n",
              "      <td>4.0</td>\n",
              "      <td>1.0</td>\n",
              "    </tr>\n",
              "    <tr>\n",
              "      <th>1</th>\n",
              "      <td>Ramanathan Nagar, Pozhichalur,Chennai</td>\n",
              "      <td>10 BHK Independent House for sale in Pozhichal...</td>\n",
              "      <td>22500000.0</td>\n",
              "      <td>Ramanathan Nagar, Pozhichalur,Chennai</td>\n",
              "      <td>7000</td>\n",
              "      <td>3210.0</td>\n",
              "      <td>Looking for a 10 BHK Independent House for sal...</td>\n",
              "      <td>6.0</td>\n",
              "      <td>1.0</td>\n",
              "    </tr>\n",
              "    <tr>\n",
              "      <th>2</th>\n",
              "      <td>DAC Prapthi</td>\n",
              "      <td>3 BHK Flat for sale in West Tambaram, Chennai</td>\n",
              "      <td>10000000.0</td>\n",
              "      <td>Kasthuribai Nagar, West Tambaram,Chennai</td>\n",
              "      <td>1320</td>\n",
              "      <td>7580.0</td>\n",
              "      <td>Property for sale in Tambaram, Chennai. This 3...</td>\n",
              "      <td>3.0</td>\n",
              "      <td>0.0</td>\n",
              "    </tr>\n",
              "    <tr>\n",
              "      <th>3</th>\n",
              "      <td>Naveenilaya,Chepauk, Triplicane,Chennai</td>\n",
              "      <td>7 BHK Independent House for sale in Triplicane...</td>\n",
              "      <td>33300000.0</td>\n",
              "      <td>Naveenilaya,Chepauk, Triplicane,Chennai</td>\n",
              "      <td>4250</td>\n",
              "      <td>7840.0</td>\n",
              "      <td>Entire Building for sale with 7 units of singl...</td>\n",
              "      <td>5.0</td>\n",
              "      <td>1.0</td>\n",
              "    </tr>\n",
              "    <tr>\n",
              "      <th>4</th>\n",
              "      <td>VGN Spring Field Phase 1</td>\n",
              "      <td>2 BHK Flat for sale in Avadi, Chennai</td>\n",
              "      <td>4800000.0</td>\n",
              "      <td>Avadi, Chennai</td>\n",
              "      <td>960</td>\n",
              "      <td>5000.0</td>\n",
              "      <td>Property for sale in Avadi, Chennai. This 2 BH...</td>\n",
              "      <td>3.0</td>\n",
              "      <td>1.0</td>\n",
              "    </tr>\n",
              "  </tbody>\n",
              "</table>\n",
              "</div>\n",
              "    <div class=\"colab-df-buttons\">\n",
              "\n",
              "  <div class=\"colab-df-container\">\n",
              "    <button class=\"colab-df-convert\" onclick=\"convertToInteractive('df-4ff83c12-aa27-4b13-9d4d-ad44af7944e5')\"\n",
              "            title=\"Convert this dataframe to an interactive table.\"\n",
              "            style=\"display:none;\">\n",
              "\n",
              "  <svg xmlns=\"http://www.w3.org/2000/svg\" height=\"24px\" viewBox=\"0 -960 960 960\">\n",
              "    <path d=\"M120-120v-720h720v720H120Zm60-500h600v-160H180v160Zm220 220h160v-160H400v160Zm0 220h160v-160H400v160ZM180-400h160v-160H180v160Zm440 0h160v-160H620v160ZM180-180h160v-160H180v160Zm440 0h160v-160H620v160Z\"/>\n",
              "  </svg>\n",
              "    </button>\n",
              "\n",
              "  <style>\n",
              "    .colab-df-container {\n",
              "      display:flex;\n",
              "      gap: 12px;\n",
              "    }\n",
              "\n",
              "    .colab-df-convert {\n",
              "      background-color: #E8F0FE;\n",
              "      border: none;\n",
              "      border-radius: 50%;\n",
              "      cursor: pointer;\n",
              "      display: none;\n",
              "      fill: #1967D2;\n",
              "      height: 32px;\n",
              "      padding: 0 0 0 0;\n",
              "      width: 32px;\n",
              "    }\n",
              "\n",
              "    .colab-df-convert:hover {\n",
              "      background-color: #E2EBFA;\n",
              "      box-shadow: 0px 1px 2px rgba(60, 64, 67, 0.3), 0px 1px 3px 1px rgba(60, 64, 67, 0.15);\n",
              "      fill: #174EA6;\n",
              "    }\n",
              "\n",
              "    .colab-df-buttons div {\n",
              "      margin-bottom: 4px;\n",
              "    }\n",
              "\n",
              "    [theme=dark] .colab-df-convert {\n",
              "      background-color: #3B4455;\n",
              "      fill: #D2E3FC;\n",
              "    }\n",
              "\n",
              "    [theme=dark] .colab-df-convert:hover {\n",
              "      background-color: #434B5C;\n",
              "      box-shadow: 0px 1px 3px 1px rgba(0, 0, 0, 0.15);\n",
              "      filter: drop-shadow(0px 1px 2px rgba(0, 0, 0, 0.3));\n",
              "      fill: #FFFFFF;\n",
              "    }\n",
              "  </style>\n",
              "\n",
              "    <script>\n",
              "      const buttonEl =\n",
              "        document.querySelector('#df-4ff83c12-aa27-4b13-9d4d-ad44af7944e5 button.colab-df-convert');\n",
              "      buttonEl.style.display =\n",
              "        google.colab.kernel.accessAllowed ? 'block' : 'none';\n",
              "\n",
              "      async function convertToInteractive(key) {\n",
              "        const element = document.querySelector('#df-4ff83c12-aa27-4b13-9d4d-ad44af7944e5');\n",
              "        const dataTable =\n",
              "          await google.colab.kernel.invokeFunction('convertToInteractive',\n",
              "                                                    [key], {});\n",
              "        if (!dataTable) return;\n",
              "\n",
              "        const docLinkHtml = 'Like what you see? Visit the ' +\n",
              "          '<a target=\"_blank\" href=https://colab.research.google.com/notebooks/data_table.ipynb>data table notebook</a>'\n",
              "          + ' to learn more about interactive tables.';\n",
              "        element.innerHTML = '';\n",
              "        dataTable['output_type'] = 'display_data';\n",
              "        await google.colab.output.renderOutput(dataTable, element);\n",
              "        const docLink = document.createElement('div');\n",
              "        docLink.innerHTML = docLinkHtml;\n",
              "        element.appendChild(docLink);\n",
              "      }\n",
              "    </script>\n",
              "  </div>\n",
              "\n",
              "\n",
              "    <div id=\"df-87849b9f-86fc-4820-b87c-792bf05a46ca\">\n",
              "      <button class=\"colab-df-quickchart\" onclick=\"quickchart('df-87849b9f-86fc-4820-b87c-792bf05a46ca')\"\n",
              "                title=\"Suggest charts\"\n",
              "                style=\"display:none;\">\n",
              "\n",
              "<svg xmlns=\"http://www.w3.org/2000/svg\" height=\"24px\"viewBox=\"0 0 24 24\"\n",
              "     width=\"24px\">\n",
              "    <g>\n",
              "        <path d=\"M19 3H5c-1.1 0-2 .9-2 2v14c0 1.1.9 2 2 2h14c1.1 0 2-.9 2-2V5c0-1.1-.9-2-2-2zM9 17H7v-7h2v7zm4 0h-2V7h2v10zm4 0h-2v-4h2v4z\"/>\n",
              "    </g>\n",
              "</svg>\n",
              "      </button>\n",
              "\n",
              "<style>\n",
              "  .colab-df-quickchart {\n",
              "      --bg-color: #E8F0FE;\n",
              "      --fill-color: #1967D2;\n",
              "      --hover-bg-color: #E2EBFA;\n",
              "      --hover-fill-color: #174EA6;\n",
              "      --disabled-fill-color: #AAA;\n",
              "      --disabled-bg-color: #DDD;\n",
              "  }\n",
              "\n",
              "  [theme=dark] .colab-df-quickchart {\n",
              "      --bg-color: #3B4455;\n",
              "      --fill-color: #D2E3FC;\n",
              "      --hover-bg-color: #434B5C;\n",
              "      --hover-fill-color: #FFFFFF;\n",
              "      --disabled-bg-color: #3B4455;\n",
              "      --disabled-fill-color: #666;\n",
              "  }\n",
              "\n",
              "  .colab-df-quickchart {\n",
              "    background-color: var(--bg-color);\n",
              "    border: none;\n",
              "    border-radius: 50%;\n",
              "    cursor: pointer;\n",
              "    display: none;\n",
              "    fill: var(--fill-color);\n",
              "    height: 32px;\n",
              "    padding: 0;\n",
              "    width: 32px;\n",
              "  }\n",
              "\n",
              "  .colab-df-quickchart:hover {\n",
              "    background-color: var(--hover-bg-color);\n",
              "    box-shadow: 0 1px 2px rgba(60, 64, 67, 0.3), 0 1px 3px 1px rgba(60, 64, 67, 0.15);\n",
              "    fill: var(--button-hover-fill-color);\n",
              "  }\n",
              "\n",
              "  .colab-df-quickchart-complete:disabled,\n",
              "  .colab-df-quickchart-complete:disabled:hover {\n",
              "    background-color: var(--disabled-bg-color);\n",
              "    fill: var(--disabled-fill-color);\n",
              "    box-shadow: none;\n",
              "  }\n",
              "\n",
              "  .colab-df-spinner {\n",
              "    border: 2px solid var(--fill-color);\n",
              "    border-color: transparent;\n",
              "    border-bottom-color: var(--fill-color);\n",
              "    animation:\n",
              "      spin 1s steps(1) infinite;\n",
              "  }\n",
              "\n",
              "  @keyframes spin {\n",
              "    0% {\n",
              "      border-color: transparent;\n",
              "      border-bottom-color: var(--fill-color);\n",
              "      border-left-color: var(--fill-color);\n",
              "    }\n",
              "    20% {\n",
              "      border-color: transparent;\n",
              "      border-left-color: var(--fill-color);\n",
              "      border-top-color: var(--fill-color);\n",
              "    }\n",
              "    30% {\n",
              "      border-color: transparent;\n",
              "      border-left-color: var(--fill-color);\n",
              "      border-top-color: var(--fill-color);\n",
              "      border-right-color: var(--fill-color);\n",
              "    }\n",
              "    40% {\n",
              "      border-color: transparent;\n",
              "      border-right-color: var(--fill-color);\n",
              "      border-top-color: var(--fill-color);\n",
              "    }\n",
              "    60% {\n",
              "      border-color: transparent;\n",
              "      border-right-color: var(--fill-color);\n",
              "    }\n",
              "    80% {\n",
              "      border-color: transparent;\n",
              "      border-right-color: var(--fill-color);\n",
              "      border-bottom-color: var(--fill-color);\n",
              "    }\n",
              "    90% {\n",
              "      border-color: transparent;\n",
              "      border-bottom-color: var(--fill-color);\n",
              "    }\n",
              "  }\n",
              "</style>\n",
              "\n",
              "      <script>\n",
              "        async function quickchart(key) {\n",
              "          const quickchartButtonEl =\n",
              "            document.querySelector('#' + key + ' button');\n",
              "          quickchartButtonEl.disabled = true;  // To prevent multiple clicks.\n",
              "          quickchartButtonEl.classList.add('colab-df-spinner');\n",
              "          try {\n",
              "            const charts = await google.colab.kernel.invokeFunction(\n",
              "                'suggestCharts', [key], {});\n",
              "          } catch (error) {\n",
              "            console.error('Error during call to suggestCharts:', error);\n",
              "          }\n",
              "          quickchartButtonEl.classList.remove('colab-df-spinner');\n",
              "          quickchartButtonEl.classList.add('colab-df-quickchart-complete');\n",
              "        }\n",
              "        (() => {\n",
              "          let quickchartButtonEl =\n",
              "            document.querySelector('#df-87849b9f-86fc-4820-b87c-792bf05a46ca button');\n",
              "          quickchartButtonEl.style.display =\n",
              "            google.colab.kernel.accessAllowed ? 'block' : 'none';\n",
              "        })();\n",
              "      </script>\n",
              "    </div>\n",
              "\n",
              "    </div>\n",
              "  </div>\n"
            ],
            "application/vnd.google.colaboratory.intrinsic+json": {
              "type": "dataframe",
              "variable_name": "df",
              "summary": "{\n  \"name\": \"df\",\n  \"rows\": 14528,\n  \"fields\": [\n    {\n      \"column\": \"Name\",\n      \"properties\": {\n        \"dtype\": \"string\",\n        \"num_unique_values\": 9998,\n        \"samples\": [\n          \"EAPL Sri Tirumala Millennium\",\n          \"Hasnabad, Santosh Nagar,Hyderabad\",\n          \"5th Stage, RR Nagar,Bangalore\"\n        ],\n        \"semantic_type\": \"\",\n        \"description\": \"\"\n      }\n    },\n    {\n      \"column\": \"Property Title\",\n      \"properties\": {\n        \"dtype\": \"category\",\n        \"num_unique_values\": 6507,\n        \"samples\": [\n          \"2 BHK Flat for sale in Kurla East, Mumbai\",\n          \"2 BHK Flat for sale in Kashewadi, Pune\",\n          \"4 BHK Independent House for sale in Narhe, Pune\"\n        ],\n        \"semantic_type\": \"\",\n        \"description\": \"\"\n      }\n    },\n    {\n      \"column\": \"Price\",\n      \"properties\": {\n        \"dtype\": \"number\",\n        \"std\": 18673336.25704783,\n        \"min\": 1.0,\n        \"max\": 840000000.0,\n        \"num_unique_values\": 891,\n        \"samples\": [\n          3279999.9999999995,\n          350000000.0,\n          5170000.0\n        ],\n        \"semantic_type\": \"\",\n        \"description\": \"\"\n      }\n    },\n    {\n      \"column\": \"Location\",\n      \"properties\": {\n        \"dtype\": \"category\",\n        \"num_unique_values\": 7050,\n        \"samples\": [\n          \"Shree Shankaranand Society,Walvekar Nagar, Parvati Darshan,Pune\",\n          \"Elango Nagar, Padi,Chennai\",\n          \"Laxminarayana Layout, Munnekollal,Bangalore\"\n        ],\n        \"semantic_type\": \"\",\n        \"description\": \"\"\n      }\n    },\n    {\n      \"column\": \"Total_Area\",\n      \"properties\": {\n        \"dtype\": \"number\",\n        \"std\": 1245,\n        \"min\": 70,\n        \"max\": 35000,\n        \"num_unique_values\": 1774,\n        \"samples\": [\n          2187,\n          1378,\n          1491\n        ],\n        \"semantic_type\": \"\",\n        \"description\": \"\"\n      }\n    },\n    {\n      \"column\": \"Price_per_SQFT\",\n      \"properties\": {\n        \"dtype\": \"number\",\n        \"std\": 49036.068632130635,\n        \"min\": 0.0,\n        \"max\": 999000.0,\n        \"num_unique_values\": 2094,\n        \"samples\": [\n          27200.0,\n          19070.0,\n          884000.0\n        ],\n        \"semantic_type\": \"\",\n        \"description\": \"\"\n      }\n    },\n    {\n      \"column\": \"Description\",\n      \"properties\": {\n        \"dtype\": \"string\",\n        \"num_unique_values\": 14490,\n        \"samples\": [\n          \"3 BHK Apartment for sale in Kolkata. This property is in Kamardanga, which is a coveted investment location. This tastefully designed 3 BHK unit is among Kolkata's best properties. No brokerage to be paid for this property. This 3 BHK property is posted directly by Owner. Contact now for more details. This property in Kolkata is on floor 3. The total number of floors in this Apartment is 4. The price of the Apartment is Rs 32.0 L. Monthly maintenance charges come to Rs 0. It is best suited for all kinds of families. Because this property is spacious, with a built-up area of 750 Square feet. So...\",\n          \"Looking for a good 3 BHK Apartment in Kokapet, Hyderabad? This property is in one of Hyderabad's most popular locations. This is a no brokerage property. The property is on floor 9. Total number of floors is 12. Maintenance charges of this property is Rs 3500. This Apartment is available for Rs 1.95 Cr. This modern unit has a built-up area of 1680 Square feet. This property has a good view and is West-facing. There are 3 bedrooms and 3 bathroom. Lift is available in this Apartment. This is a gated community. Cctv facility is provided to ensure safety. Sports enthusiasts have multiple options s...\",\n          \"Looking for a 3 BHK Apartment for sale in Bengaluru? Your search ends here. Buy this 3 BHK property in Bengaluru's finest location, C V Raman Nagar. This is an owner listed property and there is no brokerage involved. It is on floor 2 out of 3 floors. This Apartment is available at a reasonable price of Rs 1.15 Cr. The built up area of this property is 1360 Square feet. There are a number of reputed schools in the vicinity such as Hello Kids - India, Kendriya Vidyalaya DRDO, and Global City International School. Medical facility is also close at hand with names like The Life Plus Hospital - Dr...\"\n        ],\n        \"semantic_type\": \"\",\n        \"description\": \"\"\n      }\n    },\n    {\n      \"column\": \"Baths\",\n      \"properties\": {\n        \"dtype\": \"number\",\n        \"std\": 0.8982432277177818,\n        \"min\": 1.0,\n        \"max\": 6.0,\n        \"num_unique_values\": 6,\n        \"samples\": [\n          4.0,\n          6.0,\n          1.0\n        ],\n        \"semantic_type\": \"\",\n        \"description\": \"\"\n      }\n    },\n    {\n      \"column\": \"Balcony\",\n      \"properties\": {\n        \"dtype\": \"number\",\n        \"std\": 0.4917430606632924,\n        \"min\": 0.0,\n        \"max\": 1.0,\n        \"num_unique_values\": 2,\n        \"samples\": [\n          0.0,\n          1.0\n        ],\n        \"semantic_type\": \"\",\n        \"description\": \"\"\n      }\n    }\n  ]\n}"
            }
          },
          "metadata": {},
          "execution_count": 12
        }
      ],
      "source": [
        "import category_encoders as ce\n",
        "\n",
        "# Identify categorical columns\n",
        "categorical_cols = X.select_dtypes(include=[\"object\"]).columns\n",
        "\n",
        "# Encode categorical columns using TargetEncoder\n",
        "encoder = ce.TargetEncoder(cols=categorical_cols)\n",
        "X[categorical_cols] = encoder.fit_transform(X[categorical_cols], y)\n",
        "\n",
        "# Now split train/test\n",
        "X_train, X_test, y_train, y_test = train_test_split(\n",
        "    X, y, test_size=0.2, random_state=42\n",
        ")\n"
      ]
    },
    {
      "cell_type": "markdown",
      "source": [
        "FEATURE SELECTION, SPLIT & ENCODING"
      ],
      "metadata": {
        "id": "rJ-BsrS9abCS"
      }
    },
    {
      "cell_type": "code",
      "source": [
        "from sklearn.model_selection import train_test_split\n",
        "from category_encoders import TargetEncoder\n",
        "\n",
        "# Select features and target\n",
        "feature_cols = [\"Total_Area\", \"Baths\", \"Balcony\", \"Location\"]\n",
        "extra_cols = [c for c in [\"Swimming Pool\", \"Gym\", \"Parking\", \"Furnished\"] if c in df.columns]\n",
        "feature_cols += extra_cols\n",
        "\n",
        "X = df[feature_cols].copy()\n",
        "y = df[\"Price\"]\n",
        "\n",
        "# Split data\n",
        "X_train, X_test, y_train, y_test = train_test_split(X, y, test_size=0.2, random_state=42)\n",
        "\n",
        "# Identify categorical columns\n",
        "categorical_cols = X.select_dtypes(include=[\"object\"]).columns.tolist()\n",
        "print(\"Categorical columns:\", categorical_cols)\n",
        "\n",
        "# Encode categorical columns\n",
        "encoder = TargetEncoder(cols=categorical_cols)\n",
        "X_train[categorical_cols] = encoder.fit_transform(X_train[categorical_cols], y_train)\n",
        "X_test[categorical_cols]  = encoder.transform(X_test[categorical_cols])\n",
        "\n",
        "print(\"✅ Encoding completed successfully!\")"
      ],
      "metadata": {
        "colab": {
          "base_uri": "https://localhost:8080/"
        },
        "id": "um5HCyrWaew8",
        "outputId": "370da322-5dae-427e-c2ec-a4d7b97c9819"
      },
      "execution_count": null,
      "outputs": [
        {
          "output_type": "stream",
          "name": "stdout",
          "text": [
            "Categorical columns: ['Location']\n",
            "Encoding completed successfully!\n"
          ]
        }
      ]
    },
    {
      "cell_type": "markdown",
      "source": [
        "MODEL TRAINING & EVALUATION"
      ],
      "metadata": {
        "id": "yCOetQ3Ia0cg"
      }
    },
    {
      "cell_type": "code",
      "execution_count": null,
      "metadata": {
        "colab": {
          "base_uri": "https://localhost:8080/"
        },
        "id": "QTM-6PE9IOPq",
        "outputId": "484db327-fb36-446f-b97e-7b72bc698356"
      },
      "outputs": [
        {
          "output_type": "stream",
          "name": "stdout",
          "text": [
            "               Model  R² Score          RMSE           MAE\n",
            "0  Linear Regression -0.064774  1.444713e+07  6.783075e+06\n",
            "1      Decision Tree -0.194861  1.530423e+07  6.085601e+06\n",
            "2      Random Forest  0.009940  1.393104e+07  5.510999e+06\n",
            "3  Gradient Boosting  0.064684  1.354042e+07  5.769203e+06\n"
          ]
        }
      ],
      "source": [
        "from sklearn.linear_model import LinearRegression\n",
        "from sklearn.tree import DecisionTreeRegressor\n",
        "from sklearn.ensemble import RandomForestRegressor, GradientBoostingRegressor\n",
        "from sklearn.metrics import r2_score, mean_absolute_error, mean_squared_error\n",
        "import numpy as np\n",
        "import pandas as pd\n",
        "\n",
        "models = {\n",
        "    \"Linear Regression\": LinearRegression(),\n",
        "    \"Decision Tree\": DecisionTreeRegressor(random_state=42),\n",
        "    \"Random Forest\": RandomForestRegressor(n_estimators=300, max_depth=20, random_state=42),\n",
        "    \"Gradient Boosting\": GradientBoostingRegressor(n_estimators=300, learning_rate=0.1, max_depth=5, random_state=42)\n",
        "}\n",
        "\n",
        "results = []\n",
        "for name, model in models.items():\n",
        "    model.fit(X_train, y_train)\n",
        "    y_pred = model.predict(X_test)\n",
        "\n",
        "    r2 = r2_score(y_test, y_pred)\n",
        "    rmse = np.sqrt(mean_squared_error(y_test, y_pred))\n",
        "    mae = mean_absolute_error(y_test, y_pred)\n",
        "\n",
        "    results.append([name, r2, rmse, mae])\n",
        "\n",
        "results_df = pd.DataFrame(results, columns=[\"Model\", \"R² Score\", \"RMSE\", \"MAE\"])\n",
        "print(results_df)\n"
      ]
    },
    {
      "cell_type": "markdown",
      "metadata": {
        "id": "YPH78W9jxLY2"
      },
      "source": [
        "training, testing, and comparison"
      ]
    },
    {
      "cell_type": "code",
      "execution_count": null,
      "metadata": {
        "id": "JcAwHpBGLRQv"
      },
      "outputs": [],
      "source": [
        "# Encode categorical features\n",
        "categorical_cols = df.select_dtypes(include=[\"object\"]).columns\n",
        "if len(categorical_cols) > 0:\n",
        "    encoder = ce.TargetEncoder(cols=categorical_cols)\n",
        "    df[categorical_cols] = encoder.fit_transform(df[categorical_cols], df[\"Price\"])\n"
      ]
    },
    {
      "cell_type": "code",
      "execution_count": null,
      "metadata": {
        "colab": {
          "base_uri": "https://localhost:8080/"
        },
        "id": "5TcQ0HUyxHGK",
        "outputId": "b4b32052-f7e2-427b-8538-06a174422b97"
      },
      "outputs": [
        {
          "output_type": "stream",
          "name": "stdout",
          "text": [
            "               Model  R² Score           RMSE           MAE\n",
            "0  Linear Regression  0.999990   43161.833052   6620.863736\n",
            "1      Decision Tree  0.999863  163746.419451  12660.013765\n",
            "2      Random Forest  0.999243  385279.078807  21458.661331\n",
            "3  Gradient Boosting  0.999968   79067.953020  14247.247585\n"
          ]
        }
      ],
      "source": [
        "# Imports\n",
        "import pandas as pd\n",
        "import numpy as np\n",
        "import category_encoders as ce\n",
        "from sklearn.model_selection import train_test_split\n",
        "from sklearn.linear_model import LinearRegression\n",
        "from sklearn.tree import DecisionTreeRegressor\n",
        "from sklearn.ensemble import RandomForestRegressor, GradientBoostingRegressor\n",
        "from sklearn.metrics import r2_score, mean_absolute_error, mean_squared_error\n",
        "\n",
        "# --- Assume df is already cleaned and loaded here ---\n",
        "\n",
        "# Encode categorical features\n",
        "categorical_cols = df.select_dtypes(include=[\"object\"]).columns\n",
        "if len(categorical_cols) > 0:\n",
        "    encoder = ce.TargetEncoder(cols=categorical_cols)\n",
        "    df[categorical_cols] = encoder.fit_transform(df[categorical_cols], df[\"Price\"])\n",
        "\n",
        "# 1. Define features and target\n",
        "X = df.drop(\"Price\", axis=1)\n",
        "y = df[\"Price\"]\n",
        "\n",
        "# 2. Train-test split\n",
        "X_train, X_test, y_train, y_test = train_test_split(\n",
        "    X, y, test_size=0.2, random_state=42\n",
        ")\n",
        "\n",
        "# 3. Define models\n",
        "models = {\n",
        "    \"Linear Regression\": LinearRegression(),\n",
        "    \"Decision Tree\": DecisionTreeRegressor(random_state=42),\n",
        "    \"Random Forest\": RandomForestRegressor(n_estimators=300, max_depth=20, random_state=42),\n",
        "    \"Gradient Boosting\": GradientBoostingRegressor(n_estimators=300, learning_rate=0.1, max_depth=5, random_state=42)\n",
        "}\n",
        "\n",
        "# 4. Train, test and compare\n",
        "results = []\n",
        "for name, model in models.items():\n",
        "    model.fit(X_train, y_train)\n",
        "    y_pred = model.predict(X_test)\n",
        "\n",
        "    r2 = r2_score(y_test, y_pred)\n",
        "    rmse = np.sqrt(mean_squared_error(y_test, y_pred))\n",
        "    mae = mean_absolute_error(y_test, y_pred)\n",
        "\n",
        "    results.append([name, r2, rmse, mae])\n",
        "\n",
        "# 5. Show results\n",
        "results_df = pd.DataFrame(results, columns=[\"Model\", \"R² Score\", \"RMSE\", \"MAE\"])\n",
        "print(results_df)\n"
      ]
    },
    {
      "cell_type": "markdown",
      "source": [
        "SAVE BEST MODEL + ENCODER"
      ],
      "metadata": {
        "id": "a5i5pbABbn3H"
      }
    },
    {
      "cell_type": "code",
      "execution_count": null,
      "metadata": {
        "colab": {
          "base_uri": "https://localhost:8080/"
        },
        "id": "-s4cNcsZ0LUE",
        "outputId": "95210851-5f19-49fd-aa96-a691948a697f"
      },
      "outputs": [
        {
          "output_type": "stream",
          "name": "stdout",
          "text": [
            "✅ Model trained and saved as price_model.pkl\n",
            "✅ Encoder trained and saved as encoder.pkl\n"
          ]
        }
      ],
      "source": [
        "import joblib\n",
        "import category_encoders as ce\n",
        "from sklearn.ensemble import RandomForestRegressor\n",
        "\n",
        "# 1 Pick best model — you can change this later if another model performs better\n",
        "best_model = RandomForestRegressor(n_estimators=300, max_depth=20, random_state=42)\n",
        "\n",
        "# 2️ Train best model on the FULL dataset (after cleaning + encoding)\n",
        "best_model.fit(X, y)\n",
        "\n",
        "# 3️ Save trained model\n",
        "joblib.dump(best_model, \"price_model.pkl\")\n",
        "print(\"✅ Model trained and saved as price_model.pkl\")\n",
        "\n",
        "# 4️ Save encoder (only if you used TargetEncoder)\n",
        "encoder = ce.TargetEncoder(cols=categorical_cols)\n",
        "encoder.fit(df[categorical_cols], df[\"Price\"])\n",
        "joblib.dump(encoder, \"encoder.pkl\")\n",
        "print(\"✅ Encoder trained and saved as encoder.pkl\")"
      ]
    },
    {
      "cell_type": "markdown",
      "metadata": {
        "id": "LTppPlFb3jXS"
      },
      "source": [
        "Load and Predict"
      ]
    },
    {
      "cell_type": "code",
      "execution_count": null,
      "metadata": {
        "colab": {
          "base_uri": "https://localhost:8080/"
        },
        "id": "X6nIKPQh3ol4",
        "outputId": "eabe054c-7568-4c41-ab6d-d5fca35169bc"
      },
      "outputs": [
        {
          "output_type": "stream",
          "name": "stderr",
          "text": [
            "/tmp/ipython-input-1969852726.py:14: FutureWarning: Downcasting behavior in `replace` is deprecated and will be removed in a future version. To retain the old behavior, explicitly call `result.infer_objects(copy=False)`. To opt-in to the future behavior, set `pd.set_option('future.no_silent_downcasting', True)`\n",
            "  df[col] = df[col].replace({\"Yes\": 1, \"No\": 0})\n",
            "/tmp/ipython-input-1969852726.py:21: FutureWarning: A value is trying to be set on a copy of a DataFrame or Series through chained assignment using an inplace method.\n",
            "The behavior will change in pandas 3.0. This inplace method will never work because the intermediate object on which we are setting values always behaves as a copy.\n",
            "\n",
            "For example, when doing 'df[col].method(value, inplace=True)', try using 'df.method({col: value}, inplace=True)' or df[col] = df[col].method(value) instead, to perform the operation inplace on the original object.\n",
            "\n",
            "\n",
            "  df[\"Total_Area\"].fillna(df[\"Total_Area\"].median(), inplace=True)\n"
          ]
        },
        {
          "output_type": "stream",
          "name": "stdout",
          "text": [
            "Model and encoder trained and saved successfully!\n"
          ]
        }
      ],
      "source": [
        "import pandas as pd\n",
        "import category_encoders as ce\n",
        "from sklearn.ensemble import RandomForestRegressor\n",
        "import joblib\n",
        "import re\n",
        "\n",
        "# Load dataset\n",
        "df = pd.read_csv(\"Real Estate Data V21.csv\", on_bad_lines='skip', engine='python')\n",
        "\n",
        "\n",
        "# --- 1. Convert Yes/No to 1/0 safely ---\n",
        "for col in [\"Balcony\", \"Baths\"]:\n",
        "    if col in df.columns:\n",
        "        df[col] = df[col].replace({\"Yes\": 1, \"No\": 0})\n",
        "        df[col] = pd.to_numeric(df[col], errors=\"coerce\")\n",
        "        df[col] = df[col].fillna(0)\n",
        "\n",
        "# --- 2. Ensure Total_Area is numeric ---\n",
        "if \"Total_Area\" in df.columns:\n",
        "    df[\"Total_Area\"] = pd.to_numeric(df[\"Total_Area\"], errors=\"coerce\")\n",
        "    df[\"Total_Area\"].fillna(df[\"Total_Area\"].median(), inplace=True)\n",
        "\n",
        "# --- 3. Clean Price column robustly ---\n",
        "def price_to_float(price):\n",
        "    if isinstance(price, str):\n",
        "        price = price.replace(\"₹\", \"\").replace(\",\", \"\").strip().lower()\n",
        "        match = re.search(r\"([\\d\\.]+)\\s*(cr|l)?\", price)\n",
        "        if match:\n",
        "            value = float(match.group(1))\n",
        "            unit = match.group(2)\n",
        "            if unit == \"cr\":\n",
        "                return value * 1e7\n",
        "            elif unit == \"l\":\n",
        "                return value * 1e5\n",
        "            else:\n",
        "                return value\n",
        "        else:\n",
        "            return None\n",
        "    elif isinstance(price, (int, float)):\n",
        "        return price\n",
        "    else:\n",
        "        return None\n",
        "\n",
        "df[\"Price\"] = df[\"Price\"].apply(price_to_float)\n",
        "df = df.dropna(subset=[\"Price\"])\n",
        "\n",
        "# --- 4. Define features and target ---\n",
        "feature_cols = [\"Total_Area\", \"Baths\", \"Balcony\", \"Location\", \"Name\", \"Description\", \"Property Title\"]\n",
        "X = df[feature_cols].copy()\n",
        "y = df[\"Price\"]\n",
        "\n",
        "# --- 5. Encode categorical features ---\n",
        "categorical_cols = [\"Location\", \"Name\", \"Description\", \"Property Title\"]\n",
        "encoder = ce.TargetEncoder(cols=categorical_cols)\n",
        "X[categorical_cols] = encoder.fit_transform(X[categorical_cols], y)\n",
        "\n",
        "# --- 6. Train Random Forest model ---\n",
        "model = RandomForestRegressor(n_estimators=300, max_depth=20, random_state=42)\n",
        "model.fit(X, y)\n",
        "\n",
        "# --- 7. Save model and encoder ---\n",
        "joblib.dump(model, \"price_model.pkl\")\n",
        "joblib.dump(encoder, \"encoder.pkl\")\n",
        "\n",
        "print(\"Model and encoder trained and saved successfully!\")\n"
      ]
    },
    {
      "cell_type": "code",
      "execution_count": null,
      "metadata": {
        "colab": {
          "base_uri": "https://localhost:8080/"
        },
        "id": "S8NpMq1uBuUe",
        "outputId": "7472a5ca-60ff-4aab-f631-4e97b502af32"
      },
      "outputs": [
        {
          "output_type": "stream",
          "name": "stdout",
          "text": [
            "Test R²: -0.0007561638222575162\n",
            "Test MAE: 7729434.618031658\n",
            "Test RMSE: 14006094.367440464\n"
          ]
        }
      ],
      "source": [
        "# Ensure X_test has same columns as X used for training\n",
        "X_test_model = X_test[feature_cols].copy()\n",
        "\n",
        "# Transform categorical columns\n",
        "X_test_model.loc[:, categorical_cols] = encoder.transform(X_test_model[categorical_cols])\n",
        "\n",
        "# Predict\n",
        "y_test_pred = model.predict(X_test_model)\n",
        "\n",
        "# Evaluate\n",
        "from sklearn.metrics import r2_score, mean_absolute_error, mean_squared_error\n",
        "\n",
        "r2_test = r2_score(y_test, y_test_pred)\n",
        "mae_test = mean_absolute_error(y_test, y_test_pred)\n",
        "rmse_test = mean_squared_error(y_test, y_test_pred) ** 0.5\n",
        "\n",
        "print(\"Test R²:\", r2_test)\n",
        "print(\"Test MAE:\", mae_test)\n",
        "print(\"Test RMSE:\", rmse_test)\n"
      ]
    },
    {
      "cell_type": "code",
      "execution_count": null,
      "metadata": {
        "colab": {
          "base_uri": "https://localhost:8080/"
        },
        "id": "eJDjPgt_FDgg",
        "outputId": "bc183a58-8c41-48ca-a3ba-67494a27a4fb"
      },
      "outputs": [
        {
          "output_type": "stream",
          "name": "stdout",
          "text": [
            "Property 1 predicted price: ₹10,699,666.67\n",
            "Property 2 predicted price: ₹10,699,666.67\n"
          ]
        }
      ],
      "source": [
        "import pandas as pd\n",
        "import joblib\n",
        "import category_encoders as ce\n",
        "\n",
        "# Load saved model and encoder\n",
        "model = joblib.load(\"price_model.pkl\")\n",
        "encoder = joblib.load(\"encoder.pkl\")\n",
        "\n",
        "# List of new properties (example: 2 properties)\n",
        "new_data = pd.DataFrame([\n",
        "    {\n",
        "        \"Total_Area\": 1500,\n",
        "        \"Baths\": 2,\n",
        "        \"Balcony\": 1,\n",
        "        \"Location\": \"Rampura, Bangalore\",\n",
        "        \"Name\": \"Apartment A\",\n",
        "        \"Description\": \"2BHK near park\",\n",
        "        \"Property Title\": \"Luxury Apartment\"\n",
        "    },\n",
        "    {\n",
        "        \"Total_Area\": 2000,\n",
        "        \"Baths\": 3,\n",
        "        \"Balcony\": 2,\n",
        "        \"Location\": \"MG Road, Bangalore\",\n",
        "        \"Name\": \"Apartment B\",\n",
        "        \"Description\": \"3BHK with gym\",\n",
        "        \"Property Title\": \"Premium Apartment\"\n",
        "    }\n",
        "])\n",
        "\n",
        "# Encode categorical columns\n",
        "categorical_cols = [\"Location\", \"Name\", \"Description\", \"Property Title\"]\n",
        "new_data[categorical_cols] = encoder.transform(new_data[categorical_cols])\n",
        "\n",
        "# Predict prices\n",
        "predicted_prices = model.predict(new_data)\n",
        "\n",
        "# Show results\n",
        "for i, price in enumerate(predicted_prices):\n",
        "    print(f\"Property {i+1} predicted price: ₹{price:,.2f}\")\n"
      ]
    },
    {
      "cell_type": "markdown",
      "metadata": {
        "id": "BdJ3Ls8BeRj4"
      },
      "source": [
        "Evaluate Model Performance"
      ]
    },
    {
      "cell_type": "code",
      "execution_count": null,
      "metadata": {
        "colab": {
          "base_uri": "https://localhost:8080/"
        },
        "id": "P3LMmy0GeSFk",
        "outputId": "a113eed1-db6e-4e66-d527-4fe3ad6cdbf5"
      },
      "outputs": [
        {
          "output_type": "execute_result",
          "data": {
            "text/plain": [
              "['encoder.pkl']"
            ]
          },
          "metadata": {},
          "execution_count": 29
        }
      ],
      "source": [
        "import joblib\n",
        "\n",
        "joblib.dump(model, \"price_model.pkl\")\n",
        "joblib.dump(encoder, \"encoder.pkl\")\n"
      ]
    },
    {
      "cell_type": "code",
      "execution_count": null,
      "metadata": {
        "colab": {
          "base_uri": "https://localhost:8080/"
        },
        "id": "QNTYN6dbgUsn",
        "outputId": "80c47382-f09e-4044-933b-d50c530192b0"
      },
      "outputs": [
        {
          "output_type": "execute_result",
          "data": {
            "text/plain": [
              "['.config',\n",
              " 'price_model.pkl',\n",
              " 'drive',\n",
              " 'encoder.pkl',\n",
              " 'Real Estate Data V21.csv',\n",
              " 'sample_data']"
            ]
          },
          "metadata": {},
          "execution_count": 30
        }
      ],
      "source": [
        "import os\n",
        "os.listdir()\n"
      ]
    },
    {
      "cell_type": "code",
      "execution_count": null,
      "metadata": {
        "id": "A7b9xdySgc_a"
      },
      "outputs": [],
      "source": [
        "for col in [\"Balcony\", \"Baths\"]:\n",
        "    if col in df.columns:\n",
        "        df[col] = df[col].replace({\"Yes\": 1, \"No\": 0}).astype(float)\n",
        "        df[col] = pd.to_numeric(df[col], errors=\"coerce\").fillna(0)\n"
      ]
    },
    {
      "cell_type": "code",
      "execution_count": null,
      "metadata": {
        "id": "nRFdc3LJhS13"
      },
      "outputs": [],
      "source": [
        "# Ensure Total_Area is numeric and fill missing with median\n",
        "if \"Total_Area\" in df.columns:\n",
        "    df[\"Total_Area\"] = pd.to_numeric(df[\"Total_Area\"], errors=\"coerce\").fillna(df[\"Total_Area\"].median())\n",
        "\n",
        "# Clean Price column robustly\n",
        "import re\n",
        "\n",
        "def price_to_float(price):\n",
        "    if isinstance(price, str):\n",
        "        price = price.replace(\"₹\", \"\").replace(\",\", \"\").strip().lower()\n",
        "        match = re.search(r\"([\\d\\.]+)\\s*(cr|l)?\", price)\n",
        "        if match:\n",
        "            value = float(match.group(1))\n",
        "            unit = match.group(2)\n",
        "            if unit == \"cr\":\n",
        "                return value * 10000000\n",
        "            elif unit == \"l\":\n",
        "                return value * 100000\n",
        "            else:\n",
        "                return value\n",
        "        else:\n",
        "            return None\n",
        "    elif isinstance(price, (int, float)):\n",
        "        return price\n",
        "    else:\n",
        "        return None\n",
        "\n",
        "df[\"Price\"] = df[\"Price\"].apply(price_to_float)\n",
        "\n",
        "# Drop rows with invalid Price\n",
        "df = df.dropna(subset=[\"Price\"])\n"
      ]
    },
    {
      "cell_type": "code",
      "execution_count": null,
      "metadata": {
        "id": "f3cCrbryBdLX"
      },
      "outputs": [],
      "source": [
        "#Step 11.5: Train-Test Split (rerun before tuning)\n",
        "from sklearn.model_selection import train_test_split\n",
        "\n",
        "feature_cols = [\"Total_Area\", \"Baths\", \"Balcony\", \"Location\", \"Name\", \"Description\", \"Property Title\"]\n",
        "X = df[feature_cols].copy()\n",
        "y = df[\"Price\"]\n",
        "\n",
        "X_train, X_test, y_train, y_test = train_test_split(\n",
        "    X, y, test_size=0.2, random_state=42\n",
        ")\n"
      ]
    },
    {
      "cell_type": "markdown",
      "metadata": {
        "id": "m4TKisDIC7yh"
      },
      "source": [
        "data preprocessing and feature setup"
      ]
    },
    {
      "cell_type": "code",
      "execution_count": null,
      "metadata": {
        "id": "Vqx8gvTZisk0"
      },
      "outputs": [],
      "source": [
        "# --- Step: Encode Yes/No Columns ---\n",
        "binary_cols = [\"Swimming Pool\", \"Gym\", \"Parking\", \"Furnished\"]  # update with actual Yes/No columns in your dataset\n",
        "\n",
        "for col in binary_cols:\n",
        "    if col in df.columns:\n",
        "        df[col] = df[col].replace({\"Yes\": 1, \"No\": 0}).fillna(0)\n"
      ]
    },
    {
      "cell_type": "code",
      "execution_count": null,
      "metadata": {
        "id": "RPY8uiQlA-MO"
      },
      "outputs": [],
      "source": [
        "#  Step: Define Feature Columns Safely\n",
        "base_cols = [\"Total_Area\", \"Baths\", \"Balcony\", \"Location\", \"Name\",\n",
        "             \"Description\", \"Property Title\"]\n",
        "\n",
        "# Add only binary Yes/No columns that exist\n",
        "binary_cols = [col for col in [\"Swimming Pool\", \"Gym\", \"Parking\", \"Furnished\"] if col in df.columns]\n",
        "\n",
        "# Final feature list\n",
        "feature_cols = base_cols + binary_cols\n",
        "\n",
        "X = df[feature_cols].copy()\n",
        "y = df[\"Price\"]\n",
        "\n",
        "# Train-Test Split\n",
        "from sklearn.model_selection import train_test_split\n",
        "X_train, X_test, y_train, y_test = train_test_split(X, y, test_size=0.2, random_state=42)\n"
      ]
    },
    {
      "cell_type": "code",
      "execution_count": null,
      "metadata": {
        "id": "CvJvAaT0B1my"
      },
      "outputs": [],
      "source": [
        "import category_encoders as ce\n",
        "\n",
        "categorical_cols = [\"Location\", \"Name\", \"Description\", \"Property Title\"]\n",
        "encoder = ce.TargetEncoder(cols=categorical_cols)\n",
        "X_train[categorical_cols] = encoder.fit_transform(X_train[categorical_cols], y_train)\n",
        "X_test[categorical_cols] = encoder.transform(X_test[categorical_cols])\n"
      ]
    },
    {
      "cell_type": "code",
      "execution_count": null,
      "metadata": {
        "colab": {
          "base_uri": "https://localhost:8080/"
        },
        "id": "SUbibwwQDha-",
        "outputId": "8c7663da-3daf-460b-d3c2-b9d4107b4292"
      },
      "outputs": [
        {
          "output_type": "stream",
          "name": "stderr",
          "text": [
            "/tmp/ipython-input-2297433814.py:41: FutureWarning: Downcasting behavior in `replace` is deprecated and will be removed in a future version. To retain the old behavior, explicitly call `result.infer_objects(copy=False)`. To opt-in to the future behavior, set `pd.set_option('future.no_silent_downcasting', True)`\n",
            "  df[col] = df[col].replace({\"Yes\": 1, \"No\": 0}).fillna(0)\n"
          ]
        },
        {
          "output_type": "stream",
          "name": "stdout",
          "text": [
            "R²: 0.9994834236833834 RMSE: 318214.6405145357 MAE: 20468.406744666183\n",
            "Model and encoder saved successfully.\n"
          ]
        }
      ],
      "source": [
        "import pandas as pd\n",
        "import numpy as np\n",
        "import category_encoders as ce\n",
        "from sklearn.model_selection import train_test_split\n",
        "from sklearn.ensemble import RandomForestRegressor\n",
        "from sklearn.metrics import r2_score, mean_squared_error, mean_absolute_error\n",
        "import joblib\n",
        "import re\n",
        "\n",
        "# --- 1. Load dataset ---\n",
        "df = pd.read_csv(\"Real Estate Data V21.csv\")\n",
        "\n",
        "# --- 2. Clean Price column ---\n",
        "def price_to_float(price):\n",
        "    if isinstance(price, str):\n",
        "        price = price.replace(\"₹\", \"\").replace(\",\", \"\").strip().lower()\n",
        "        match = re.search(r\"([\\d\\.]+)\\s*(cr|l)?\", price)\n",
        "        if match:\n",
        "            value = float(match.group(1))\n",
        "            unit = match.group(2)\n",
        "            if unit == \"cr\":\n",
        "                return value * 10000000\n",
        "            elif unit == \"l\":\n",
        "                return value * 100000\n",
        "            else:\n",
        "                return value\n",
        "        else:\n",
        "            return None\n",
        "    elif isinstance(price, (int, float)):\n",
        "        return price\n",
        "    else:\n",
        "        return None\n",
        "\n",
        "df[\"Price\"] = df[\"Price\"].apply(price_to_float)\n",
        "df = df.dropna(subset=[\"Price\"])\n",
        "\n",
        "#  3. Convert Yes/No columns to numeric\n",
        "binary_cols = [\"Balcony\", \"Baths\", \"Swimming Pool\", \"Gym\", \"Parking\", \"Furnished\"]\n",
        "for col in binary_cols:\n",
        "    if col in df.columns:\n",
        "        df[col] = df[col].replace({\"Yes\": 1, \"No\": 0}).fillna(0)\n",
        "        df[col] = pd.to_numeric(df[col], errors=\"coerce\")\n",
        "\n",
        "#  4. Ensure numeric columns are proper\n",
        "if \"Total_Area\" in df.columns:\n",
        "    df[\"Total_Area\"] = pd.to_numeric(df[\"Total_Area\"], errors=\"coerce\").fillna(df[\"Total_Area\"].median())\n",
        "\n",
        "# 5. Define features and target\n",
        "base_cols = [\"Total_Area\", \"Baths\", \"Balcony\", \"Location\", \"Name\", \"Description\", \"Property Title\"]\n",
        "existing_binary_cols = [col for col in [\"Swimming Pool\", \"Gym\", \"Parking\", \"Furnished\"] if col in df.columns]\n",
        "feature_cols = base_cols + existing_binary_cols\n",
        "\n",
        "X = df[feature_cols].copy()\n",
        "y = df[\"Price\"]\n",
        "\n",
        "# 6. Encode categorical columns\n",
        "categorical_cols = [col for col in [\"Location\", \"Name\", \"Description\", \"Property Title\"] if col in X.columns]\n",
        "if categorical_cols:\n",
        "    encoder = ce.TargetEncoder(cols=categorical_cols)\n",
        "    X[categorical_cols] = encoder.fit_transform(X[categorical_cols], y)\n",
        "\n",
        "#  7. Train-Test Split\n",
        "X_train, X_test, y_train, y_test = train_test_split(X, y, test_size=0.2, random_state=42)\n",
        "\n",
        "# 8. Train Random Forest\n",
        "model = RandomForestRegressor(n_estimators=300, max_depth=20, random_state=42)\n",
        "model.fit(X_train, y_train)\n",
        "\n",
        "# 9. Predictions and Evaluation\n",
        "y_pred = model.predict(X_test)\n",
        "r2 = r2_score(y_test, y_pred)\n",
        "rmse = np.sqrt(mean_squared_error(y_test, y_pred))\n",
        "mae = mean_absolute_error(y_test, y_pred)\n",
        "\n",
        "print(\"R²:\", r2, \"RMSE:\", rmse, \"MAE:\", mae)\n",
        "\n",
        "# 10. Save model and encoder\n",
        "joblib.dump(model, \"price_model.pkl\")\n",
        "if categorical_cols:\n",
        "    joblib.dump(encoder, \"encoder.pkl\")\n",
        "print(\"Model and encoder saved successfully.\")\n"
      ]
    },
    {
      "cell_type": "markdown",
      "metadata": {
        "id": "cjJ6iwVuyDnj"
      },
      "source": [
        "overfitted one into a regularized"
      ]
    },
    {
      "cell_type": "code",
      "execution_count": null,
      "metadata": {
        "id": "2cHYByYJy327"
      },
      "outputs": [],
      "source": [
        "import pandas as pd\n",
        "\n",
        "# Load dataset again\n",
        "df = pd.read_csv(\"/content/Real Estate Data V21.csv\")\n",
        "\n",
        "# Define feature columns (drop target and non-relevant columns)\n",
        "feature_cols = [col for col in df.columns if col not in [\"Price\", \"Name\", \"Property Title\", \"Description\"]]\n",
        "\n",
        "# Features and target\n",
        "X = df[feature_cols].copy()\n",
        "y = df[\"Price\"]\n"
      ]
    },
    {
      "cell_type": "code",
      "execution_count": null,
      "metadata": {
        "id": "eCAzeuN2yl2V"
      },
      "outputs": [],
      "source": [
        "from sklearn.model_selection import train_test_split\n",
        "\n",
        "# Split data into training and testing sets\n",
        "X_train, X_test, y_train, y_test = train_test_split(\n",
        "    X, y, test_size=0.2, random_state=42\n",
        ")\n"
      ]
    },
    {
      "cell_type": "code",
      "execution_count": null,
      "metadata": {
        "colab": {
          "base_uri": "https://localhost:8080/"
        },
        "id": "yRmv7CiuDmOm",
        "outputId": "106793d1-2f56-422f-e99b-bb8280a6a87d"
      },
      "outputs": [
        {
          "output_type": "stream",
          "name": "stderr",
          "text": [
            "/tmp/ipython-input-2354680884.py:7: FutureWarning: Downcasting behavior in `replace` is deprecated and will be removed in a future version. To retain the old behavior, explicitly call `result.infer_objects(copy=False)`. To opt-in to the future behavior, set `pd.set_option('future.no_silent_downcasting', True)`\n",
            "  .replace({\"Yes\": 1, \"No\": 0})\n"
          ]
        }
      ],
      "source": [
        "# 3. Encode Yes/No columns\n",
        "binary_cols = [\"Balcony\",\"Baths\",\"Swimming Pool\",\"Gym\",\"Parking\",\"Furnished\"]\n",
        "for col in binary_cols:\n",
        "    if col in df.columns:\n",
        "        df[col] = (\n",
        "            df[col]\n",
        "            .replace({\"Yes\": 1, \"No\": 0})\n",
        "            .fillna(0)\n",
        "            .astype(float)\n",
        "            .infer_objects(copy=False)\n",
        "        )\n"
      ]
    },
    {
      "cell_type": "code",
      "source": [],
      "metadata": {
        "id": "kToc7S2YeH3g"
      },
      "execution_count": null,
      "outputs": []
    }
  ],
  "metadata": {
    "colab": {
      "provenance": []
    },
    "kernelspec": {
      "display_name": "Python 3",
      "name": "python3"
    },
    "language_info": {
      "name": "python"
    }
  },
  "nbformat": 4,
  "nbformat_minor": 0
}