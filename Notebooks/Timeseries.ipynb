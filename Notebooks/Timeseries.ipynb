{
  "cells": [
    {
      "cell_type": "code",
      "source": [
        "!pip install prophet\n"
      ],
      "metadata": {
        "colab": {
          "base_uri": "https://localhost:8080/"
        },
        "id": "4CZqquE7M_2t",
        "outputId": "055e794a-dd51-4d6f-9bbd-00966fa7af5e"
      },
      "execution_count": null,
      "outputs": [
        {
          "output_type": "stream",
          "name": "stdout",
          "text": [
            "Requirement already satisfied: prophet in /usr/local/lib/python3.12/dist-packages (1.1.7)\n",
            "Requirement already satisfied: cmdstanpy>=1.0.4 in /usr/local/lib/python3.12/dist-packages (from prophet) (1.2.5)\n",
            "Requirement already satisfied: numpy>=1.15.4 in /usr/local/lib/python3.12/dist-packages (from prophet) (2.0.2)\n",
            "Requirement already satisfied: matplotlib>=2.0.0 in /usr/local/lib/python3.12/dist-packages (from prophet) (3.10.0)\n",
            "Requirement already satisfied: pandas>=1.0.4 in /usr/local/lib/python3.12/dist-packages (from prophet) (2.2.2)\n",
            "Requirement already satisfied: holidays<1,>=0.25 in /usr/local/lib/python3.12/dist-packages (from prophet) (0.81)\n",
            "Requirement already satisfied: tqdm>=4.36.1 in /usr/local/lib/python3.12/dist-packages (from prophet) (4.67.1)\n",
            "Requirement already satisfied: importlib_resources in /usr/local/lib/python3.12/dist-packages (from prophet) (6.5.2)\n",
            "Requirement already satisfied: stanio<2.0.0,>=0.4.0 in /usr/local/lib/python3.12/dist-packages (from cmdstanpy>=1.0.4->prophet) (0.5.1)\n",
            "Requirement already satisfied: python-dateutil in /usr/local/lib/python3.12/dist-packages (from holidays<1,>=0.25->prophet) (2.9.0.post0)\n",
            "Requirement already satisfied: contourpy>=1.0.1 in /usr/local/lib/python3.12/dist-packages (from matplotlib>=2.0.0->prophet) (1.3.3)\n",
            "Requirement already satisfied: cycler>=0.10 in /usr/local/lib/python3.12/dist-packages (from matplotlib>=2.0.0->prophet) (0.12.1)\n",
            "Requirement already satisfied: fonttools>=4.22.0 in /usr/local/lib/python3.12/dist-packages (from matplotlib>=2.0.0->prophet) (4.60.0)\n",
            "Requirement already satisfied: kiwisolver>=1.3.1 in /usr/local/lib/python3.12/dist-packages (from matplotlib>=2.0.0->prophet) (1.4.9)\n",
            "Requirement already satisfied: packaging>=20.0 in /usr/local/lib/python3.12/dist-packages (from matplotlib>=2.0.0->prophet) (25.0)\n",
            "Requirement already satisfied: pillow>=8 in /usr/local/lib/python3.12/dist-packages (from matplotlib>=2.0.0->prophet) (11.3.0)\n",
            "Requirement already satisfied: pyparsing>=2.3.1 in /usr/local/lib/python3.12/dist-packages (from matplotlib>=2.0.0->prophet) (3.2.4)\n",
            "Requirement already satisfied: pytz>=2020.1 in /usr/local/lib/python3.12/dist-packages (from pandas>=1.0.4->prophet) (2025.2)\n",
            "Requirement already satisfied: tzdata>=2022.7 in /usr/local/lib/python3.12/dist-packages (from pandas>=1.0.4->prophet) (2025.2)\n",
            "Requirement already satisfied: six>=1.5 in /usr/local/lib/python3.12/dist-packages (from python-dateutil->holidays<1,>=0.25->prophet) (1.17.0)\n"
          ]
        }
      ]
    },
    {
      "cell_type": "code",
      "source": [
        "import os\n",
        "import pandas as pd\n",
        "\n",
        "try:\n",
        "    df\n",
        "except NameError:\n",
        "    from google.colab import files\n",
        "    uploaded = files.upload()   # upload State_time_series.csv\n",
        "    df = pd.read_csv(\"State_time_series.csv\")\n",
        "    # if you need the 8222-row drop, uncomment the next line (you used this earlier)\n",
        "    # df = df.iloc[8222:].reset_index(drop=True)\n",
        "\n",
        "# Confirm Date column exists\n",
        "if \"Date\" not in df.columns:\n",
        "    raise KeyError(\"Column 'Date' not found. Check df.columns for the correct name.\")\n",
        "\n",
        "print(\"Original 'Date' dtype (unchanged):\", df[\"Date\"].dtype)\n",
        "\n",
        "# Keep a backup of the original string representation\n",
        "df[\"Date_str_backup\"] = df[\"Date\"].astype(str)\n",
        "\n",
        "# Create a separate datetime column for internal operations (does NOT overwrite original)\n",
        "df[\"Date_parsed\"] = pd.to_datetime(df[\"Date_str_backup\"], errors=\"coerce\")\n",
        "\n",
        "# Report parse problems if any\n",
        "n_unparseable = df[\"Date_parsed\"].isna().sum()\n",
        "print(\"Parsed 'Date_parsed' dtype:\", df[\"Date_parsed\"].dtype)\n",
        "print(\"Number of unparseable Date rows (Date_parsed is NaT):\", n_unparseable)\n",
        "if n_unparseable > 0:\n",
        "    print(\"Examples of unparseable Date strings (up to 10):\")\n",
        "    print(df[df[\"Date_parsed\"].isna()][\"Date_str_backup\"].head(10).tolist())\n",
        "\n",
        "# Sanity check: show parsed date range (if any parsed)\n",
        "if n_unparseable < len(df):\n",
        "    print(\"Date_parsed range:\", df[\"Date_parsed\"].min(), \"to\", df[\"Date_parsed\"].max())\n",
        "\n",
        "# Show a few rows so you can visually confirm nothing overwritten\n",
        "print(df[[\"Date\", \"Date_str_backup\", \"Date_parsed\"]].head(8))"
      ],
      "metadata": {
        "id": "LVR9k6CeSYgH",
        "colab": {
          "base_uri": "https://localhost:8080/",
          "height": 296
        },
        "outputId": "c1aa836e-e4a8-4e29-b11f-7802b1235d0b"
      },
      "execution_count": null,
      "outputs": [
        {
          "output_type": "display_data",
          "data": {
            "text/plain": [
              "<IPython.core.display.HTML object>"
            ],
            "text/html": [
              "\n",
              "     <input type=\"file\" id=\"files-6d9b7b3f-6714-4bd9-ace0-8f99c0872d81\" name=\"files[]\" multiple disabled\n",
              "        style=\"border:none\" />\n",
              "     <output id=\"result-6d9b7b3f-6714-4bd9-ace0-8f99c0872d81\">\n",
              "      Upload widget is only available when the cell has been executed in the\n",
              "      current browser session. Please rerun this cell to enable.\n",
              "      </output>\n",
              "      <script>// Copyright 2017 Google LLC\n",
              "//\n",
              "// Licensed under the Apache License, Version 2.0 (the \"License\");\n",
              "// you may not use this file except in compliance with the License.\n",
              "// You may obtain a copy of the License at\n",
              "//\n",
              "//      http://www.apache.org/licenses/LICENSE-2.0\n",
              "//\n",
              "// Unless required by applicable law or agreed to in writing, software\n",
              "// distributed under the License is distributed on an \"AS IS\" BASIS,\n",
              "// WITHOUT WARRANTIES OR CONDITIONS OF ANY KIND, either express or implied.\n",
              "// See the License for the specific language governing permissions and\n",
              "// limitations under the License.\n",
              "\n",
              "/**\n",
              " * @fileoverview Helpers for google.colab Python module.\n",
              " */\n",
              "(function(scope) {\n",
              "function span(text, styleAttributes = {}) {\n",
              "  const element = document.createElement('span');\n",
              "  element.textContent = text;\n",
              "  for (const key of Object.keys(styleAttributes)) {\n",
              "    element.style[key] = styleAttributes[key];\n",
              "  }\n",
              "  return element;\n",
              "}\n",
              "\n",
              "// Max number of bytes which will be uploaded at a time.\n",
              "const MAX_PAYLOAD_SIZE = 100 * 1024;\n",
              "\n",
              "function _uploadFiles(inputId, outputId) {\n",
              "  const steps = uploadFilesStep(inputId, outputId);\n",
              "  const outputElement = document.getElementById(outputId);\n",
              "  // Cache steps on the outputElement to make it available for the next call\n",
              "  // to uploadFilesContinue from Python.\n",
              "  outputElement.steps = steps;\n",
              "\n",
              "  return _uploadFilesContinue(outputId);\n",
              "}\n",
              "\n",
              "// This is roughly an async generator (not supported in the browser yet),\n",
              "// where there are multiple asynchronous steps and the Python side is going\n",
              "// to poll for completion of each step.\n",
              "// This uses a Promise to block the python side on completion of each step,\n",
              "// then passes the result of the previous step as the input to the next step.\n",
              "function _uploadFilesContinue(outputId) {\n",
              "  const outputElement = document.getElementById(outputId);\n",
              "  const steps = outputElement.steps;\n",
              "\n",
              "  const next = steps.next(outputElement.lastPromiseValue);\n",
              "  return Promise.resolve(next.value.promise).then((value) => {\n",
              "    // Cache the last promise value to make it available to the next\n",
              "    // step of the generator.\n",
              "    outputElement.lastPromiseValue = value;\n",
              "    return next.value.response;\n",
              "  });\n",
              "}\n",
              "\n",
              "/**\n",
              " * Generator function which is called between each async step of the upload\n",
              " * process.\n",
              " * @param {string} inputId Element ID of the input file picker element.\n",
              " * @param {string} outputId Element ID of the output display.\n",
              " * @return {!Iterable<!Object>} Iterable of next steps.\n",
              " */\n",
              "function* uploadFilesStep(inputId, outputId) {\n",
              "  const inputElement = document.getElementById(inputId);\n",
              "  inputElement.disabled = false;\n",
              "\n",
              "  const outputElement = document.getElementById(outputId);\n",
              "  outputElement.innerHTML = '';\n",
              "\n",
              "  const pickedPromise = new Promise((resolve) => {\n",
              "    inputElement.addEventListener('change', (e) => {\n",
              "      resolve(e.target.files);\n",
              "    });\n",
              "  });\n",
              "\n",
              "  const cancel = document.createElement('button');\n",
              "  inputElement.parentElement.appendChild(cancel);\n",
              "  cancel.textContent = 'Cancel upload';\n",
              "  const cancelPromise = new Promise((resolve) => {\n",
              "    cancel.onclick = () => {\n",
              "      resolve(null);\n",
              "    };\n",
              "  });\n",
              "\n",
              "  // Wait for the user to pick the files.\n",
              "  const files = yield {\n",
              "    promise: Promise.race([pickedPromise, cancelPromise]),\n",
              "    response: {\n",
              "      action: 'starting',\n",
              "    }\n",
              "  };\n",
              "\n",
              "  cancel.remove();\n",
              "\n",
              "  // Disable the input element since further picks are not allowed.\n",
              "  inputElement.disabled = true;\n",
              "\n",
              "  if (!files) {\n",
              "    return {\n",
              "      response: {\n",
              "        action: 'complete',\n",
              "      }\n",
              "    };\n",
              "  }\n",
              "\n",
              "  for (const file of files) {\n",
              "    const li = document.createElement('li');\n",
              "    li.append(span(file.name, {fontWeight: 'bold'}));\n",
              "    li.append(span(\n",
              "        `(${file.type || 'n/a'}) - ${file.size} bytes, ` +\n",
              "        `last modified: ${\n",
              "            file.lastModifiedDate ? file.lastModifiedDate.toLocaleDateString() :\n",
              "                                    'n/a'} - `));\n",
              "    const percent = span('0% done');\n",
              "    li.appendChild(percent);\n",
              "\n",
              "    outputElement.appendChild(li);\n",
              "\n",
              "    const fileDataPromise = new Promise((resolve) => {\n",
              "      const reader = new FileReader();\n",
              "      reader.onload = (e) => {\n",
              "        resolve(e.target.result);\n",
              "      };\n",
              "      reader.readAsArrayBuffer(file);\n",
              "    });\n",
              "    // Wait for the data to be ready.\n",
              "    let fileData = yield {\n",
              "      promise: fileDataPromise,\n",
              "      response: {\n",
              "        action: 'continue',\n",
              "      }\n",
              "    };\n",
              "\n",
              "    // Use a chunked sending to avoid message size limits. See b/62115660.\n",
              "    let position = 0;\n",
              "    do {\n",
              "      const length = Math.min(fileData.byteLength - position, MAX_PAYLOAD_SIZE);\n",
              "      const chunk = new Uint8Array(fileData, position, length);\n",
              "      position += length;\n",
              "\n",
              "      const base64 = btoa(String.fromCharCode.apply(null, chunk));\n",
              "      yield {\n",
              "        response: {\n",
              "          action: 'append',\n",
              "          file: file.name,\n",
              "          data: base64,\n",
              "        },\n",
              "      };\n",
              "\n",
              "      let percentDone = fileData.byteLength === 0 ?\n",
              "          100 :\n",
              "          Math.round((position / fileData.byteLength) * 100);\n",
              "      percent.textContent = `${percentDone}% done`;\n",
              "\n",
              "    } while (position < fileData.byteLength);\n",
              "  }\n",
              "\n",
              "  // All done.\n",
              "  yield {\n",
              "    response: {\n",
              "      action: 'complete',\n",
              "    }\n",
              "  };\n",
              "}\n",
              "\n",
              "scope.google = scope.google || {};\n",
              "scope.google.colab = scope.google.colab || {};\n",
              "scope.google.colab._files = {\n",
              "  _uploadFiles,\n",
              "  _uploadFilesContinue,\n",
              "};\n",
              "})(self);\n",
              "</script> "
            ]
          },
          "metadata": {}
        },
        {
          "output_type": "stream",
          "name": "stdout",
          "text": [
            "Saving State_time_series.csv to State_time_series.csv\n",
            "Original 'Date' dtype (unchanged): object\n",
            "Parsed 'Date_parsed' dtype: datetime64[ns]\n",
            "Number of unparseable Date rows (Date_parsed is NaT): 0\n",
            "Date_parsed range: 1996-04-30 00:00:00 to 2017-12-31 00:00:00\n",
            "         Date Date_str_backup Date_parsed\n",
            "0  1996-04-30      1996-04-30  1996-04-30\n",
            "1  1996-04-30      1996-04-30  1996-04-30\n",
            "2  1996-04-30      1996-04-30  1996-04-30\n",
            "3  1996-04-30      1996-04-30  1996-04-30\n",
            "4  1996-04-30      1996-04-30  1996-04-30\n",
            "5  1996-04-30      1996-04-30  1996-04-30\n",
            "6  1996-04-30      1996-04-30  1996-04-30\n",
            "7  1996-04-30      1996-04-30  1996-04-30\n"
          ]
        }
      ]
    },
    {
      "cell_type": "code",
      "source": [
        "# Select only the needed columns (drop object 'Date')\n",
        "df_multivariate = df[[\"RegionName\", \"ZHVI_AllHomes\", \"Date_parsed\"]].copy()\n",
        "\n",
        "# Sort by Region and Date_parsed (important for time-series operations)\n",
        "df_multivariate = df_multivariate.sort_values(by=[\"RegionName\", \"Date_parsed\"]).reset_index(drop=True)\n",
        "\n",
        "# Rename Date_parsed -> Date for clarity\n",
        "df_multivariate = df_multivariate.rename(columns={\"Date_parsed\": \"Date\"})\n",
        "\n",
        "# Quick check\n",
        "print(df_multivariate.head())\n",
        "print(df_multivariate.info())\n"
      ],
      "metadata": {
        "id": "fGJ_tTiPTI-H",
        "colab": {
          "base_uri": "https://localhost:8080/"
        },
        "outputId": "8462bc87-67dd-483c-ee08-6433fde26018"
      },
      "execution_count": null,
      "outputs": [
        {
          "output_type": "stream",
          "name": "stdout",
          "text": [
            "  RegionName  ZHVI_AllHomes       Date\n",
            "0    Alabama        79500.0 1996-04-30\n",
            "1    Alabama        79200.0 1996-05-31\n",
            "2    Alabama        79500.0 1996-06-30\n",
            "3    Alabama        79700.0 1996-07-31\n",
            "4    Alabama        79700.0 1996-08-31\n",
            "<class 'pandas.core.frame.DataFrame'>\n",
            "RangeIndex: 13212 entries, 0 to 13211\n",
            "Data columns (total 3 columns):\n",
            " #   Column         Non-Null Count  Dtype         \n",
            "---  ------         --------------  -----         \n",
            " 0   RegionName     13212 non-null  object        \n",
            " 1   ZHVI_AllHomes  12438 non-null  float64       \n",
            " 2   Date           13212 non-null  datetime64[ns]\n",
            "dtypes: datetime64[ns](1), float64(1), object(1)\n",
            "memory usage: 309.8+ KB\n",
            "None\n"
          ]
        }
      ]
    },
    {
      "cell_type": "code",
      "source": [
        "# Handle missing values with backward fill within each RegionName group\n",
        "df_multivariate[\"ZHVI_AllHomes\"] = (\n",
        "    df_multivariate.groupby(\"RegionName\")[\"ZHVI_AllHomes\"]\n",
        "    .transform(lambda group: group.bfill())\n",
        ")\n",
        "\n",
        "# Drop any rows still NaN\n",
        "df_multivariate = df_multivariate.dropna(subset=[\"ZHVI_AllHomes\"]).reset_index(drop=True)\n",
        "\n",
        "print(\"Final missing values:\", df_multivariate[\"ZHVI_AllHomes\"].isna().sum())\n",
        "print(\"Final shape:\", df_multivariate.shape)\n"
      ],
      "metadata": {
        "colab": {
          "base_uri": "https://localhost:8080/"
        },
        "id": "Vt4AF27iM0y4",
        "outputId": "88ce94eb-fb88-48ee-8a7f-1852fa428055"
      },
      "execution_count": null,
      "outputs": [
        {
          "output_type": "stream",
          "name": "stdout",
          "text": [
            "Final missing values: 0\n",
            "Final shape: (12856, 3)\n"
          ]
        }
      ]
    },
    {
      "cell_type": "code",
      "source": [
        "# Drop rows where ZHVI_AllHomes is still NaN\n",
        "df_multivariate = df_multivariate.dropna(subset=[\"ZHVI_AllHomes\"]).reset_index(drop=True)\n",
        "\n",
        "print(\"Final missing values:\", df_multivariate[\"ZHVI_AllHomes\"].isna().sum())\n",
        "print(\"Final shape:\", df_multivariate.shape)\n",
        "print(\"Remaining unique regions:\", df_multivariate[\"RegionName\"].nunique())\n"
      ],
      "metadata": {
        "colab": {
          "base_uri": "https://localhost:8080/"
        },
        "id": "wPGqpGS5M3i6",
        "outputId": "ce940e47-3e8a-4dd2-8bc0-7e324c750a5a"
      },
      "execution_count": null,
      "outputs": [
        {
          "output_type": "stream",
          "name": "stdout",
          "text": [
            "Final missing values: 0\n",
            "Final shape: (12856, 3)\n",
            "Remaining unique regions: 50\n"
          ]
        }
      ]
    },
    {
      "cell_type": "code",
      "source": [
        "# Step 4: Handle outliers in ZHVI_AllHomes\n",
        "def handle_outliers(group, window=3, threshold=3.0):\n",
        "    \"\"\"\n",
        "    Replace outliers with rolling median based on MAD (Median Absolute Deviation).\n",
        "    \"\"\"\n",
        "    rolling_median = group.rolling(window=window, center=True, min_periods=1).median()\n",
        "    diff = (group - rolling_median).abs()\n",
        "\n",
        "    mad = diff.median()  # Median Absolute Deviation\n",
        "    outlier_mask = diff > (threshold * mad)\n",
        "\n",
        "    # Replace outliers with rolling median values\n",
        "    group[outlier_mask] = rolling_median[outlier_mask]\n",
        "    return group\n",
        "\n",
        "# Apply outlier handling per Region\n",
        "df_multivariate[\"ZHVI_AllHomes\"] = (\n",
        "    df_multivariate.groupby(\"RegionName\")[\"ZHVI_AllHomes\"]\n",
        "    .transform(lambda g: handle_outliers(g))\n",
        ")\n",
        "\n",
        "print(\"Outlier handling done.\")\n",
        "print(df_multivariate.head())\n",
        "print(df_multivariate.info())\n"
      ],
      "metadata": {
        "colab": {
          "base_uri": "https://localhost:8080/"
        },
        "id": "slrjhM6bM6az",
        "outputId": "74027b3c-c04a-44c3-ef50-dbb5c809d35a"
      },
      "execution_count": null,
      "outputs": [
        {
          "output_type": "stream",
          "name": "stdout",
          "text": [
            "Outlier handling done.\n",
            "  RegionName  ZHVI_AllHomes       Date\n",
            "0    Alabama        79350.0 1996-04-30\n",
            "1    Alabama        79500.0 1996-05-31\n",
            "2    Alabama        79500.0 1996-06-30\n",
            "3    Alabama        79700.0 1996-07-31\n",
            "4    Alabama        79700.0 1996-08-31\n",
            "<class 'pandas.core.frame.DataFrame'>\n",
            "RangeIndex: 12856 entries, 0 to 12855\n",
            "Data columns (total 3 columns):\n",
            " #   Column         Non-Null Count  Dtype         \n",
            "---  ------         --------------  -----         \n",
            " 0   RegionName     12856 non-null  object        \n",
            " 1   ZHVI_AllHomes  12856 non-null  float64       \n",
            " 2   Date           12856 non-null  datetime64[ns]\n",
            "dtypes: datetime64[ns](1), float64(1), object(1)\n",
            "memory usage: 301.4+ KB\n",
            "None\n"
          ]
        }
      ]
    },
    {
      "cell_type": "markdown",
      "source": [
        "Forecasting for one region\n",
        "\n",
        "\n"
      ],
      "metadata": {
        "id": "WT8Ri1P9NV40"
      }
    },
    {
      "cell_type": "code",
      "source": [
        "from prophet import Prophet\n",
        "import matplotlib.pyplot as plt\n",
        "\n",
        "# Example: run for one region (say \"Alabama\")\n",
        "region = \"Alabama\"\n",
        "\n",
        "# Use the already preprocessed dataset\n",
        "region_df = df_multivariate[df_multivariate[\"RegionName\"] == region].copy()\n",
        "\n",
        "# Prophet requires 'ds' for dates and 'y' for values\n",
        "region_df = region_df.rename(columns={\"Date\": \"ds\", \"ZHVI_AllHomes\": \"y\"})\n",
        "\n",
        "# Initialize and fit model\n",
        "m = Prophet()\n",
        "m.fit(region_df)\n",
        "\n",
        "# Forecast next 12 months\n",
        "future = m.make_future_dataframe(periods=12, freq=\"M\")\n",
        "forecast = m.predict(future)\n",
        "\n",
        "# Plot forecast\n",
        "fig = m.plot(forecast)\n",
        "plt.show()\n"
      ],
      "metadata": {
        "colab": {
          "base_uri": "https://localhost:8080/",
          "height": 853
        },
        "id": "Zub0-2lSM8-z",
        "outputId": "a7fcec17-de88-40d0-80d6-1d5a7ff3401f"
      },
      "execution_count": null,
      "outputs": [
        {
          "output_type": "stream",
          "name": "stderr",
          "text": [
            "INFO:prophet:Disabling weekly seasonality. Run prophet with weekly_seasonality=True to override this.\n",
            "INFO:prophet:Disabling daily seasonality. Run prophet with daily_seasonality=True to override this.\n",
            "DEBUG:cmdstanpy:input tempfile: /tmp/tmp9v9ce7ms/wsl3z2pz.json\n",
            "DEBUG:cmdstanpy:input tempfile: /tmp/tmp9v9ce7ms/7fzanzwb.json\n",
            "DEBUG:cmdstanpy:idx 0\n",
            "DEBUG:cmdstanpy:running CmdStan, num_threads: None\n",
            "DEBUG:cmdstanpy:CmdStan args: ['/usr/local/lib/python3.12/dist-packages/prophet/stan_model/prophet_model.bin', 'random', 'seed=60485', 'data', 'file=/tmp/tmp9v9ce7ms/wsl3z2pz.json', 'init=/tmp/tmp9v9ce7ms/7fzanzwb.json', 'output', 'file=/tmp/tmp9v9ce7ms/prophet_modelsxh95lz4/prophet_model-20251003122421.csv', 'method=optimize', 'algorithm=lbfgs', 'iter=10000']\n",
            "12:24:21 - cmdstanpy - INFO - Chain [1] start processing\n",
            "INFO:cmdstanpy:Chain [1] start processing\n",
            "12:24:22 - cmdstanpy - INFO - Chain [1] done processing\n",
            "INFO:cmdstanpy:Chain [1] done processing\n",
            "/usr/local/lib/python3.12/dist-packages/prophet/forecaster.py:1872: FutureWarning: 'M' is deprecated and will be removed in a future version, please use 'ME' instead.\n",
            "  dates = pd.date_range(\n"
          ]
        },
        {
          "output_type": "display_data",
          "data": {
            "text/plain": [
              "<Figure size 1000x600 with 1 Axes>"
            ],
            "image/png": "[encoded data removed]"
          },
          "metadata": {}
        }
      ]
    },
    {
      "cell_type": "markdown",
      "source": [
        "Loop through all 52 regions and train Prophet"
      ],
      "metadata": {
        "id": "mRfwBk8iN_52"
      }
    },
    {
      "cell_type": "code",
      "source": [
        "from prophet import Prophet\n",
        "import joblib\n",
        "\n",
        "# Get list of all unique regions\n",
        "regions = df_multivariate[\"RegionName\"].unique()\n",
        "\n",
        "# Dictionary to hold Prophet models\n",
        "models = {}\n",
        "\n",
        "for region in regions:\n",
        "    print(f\"Training Prophet for: {region}\")\n",
        "\n",
        "    # Filter data for the region\n",
        "    region_df = df_multivariate[df_multivariate[\"RegionName\"] == region].copy()\n",
        "    region_df = region_df.rename(columns={\"Date\": \"ds\", \"ZHVI_AllHomes\": \"y\"})\n",
        "\n",
        "    # Initialize and fit Prophet\n",
        "    m = Prophet()\n",
        "    m.fit(region_df)\n",
        "\n",
        "    # Save model for this region\n",
        "    models[region] = m\n",
        "\n",
        "# Save all models into one file\n",
        "joblib.dump(models, \"prophet_models.pkl\")\n",
        "\n",
        "print(\"All 52 region models trained and saved into prophet_models.pkl\")\n"
      ],
      "metadata": {
        "colab": {
          "base_uri": "https://localhost:8080/"
        },
        "id": "JErVbPV6NYTT",
        "outputId": "23447a4d-20f9-4eeb-921f-904a54000ffc"
      },
      "execution_count": null,
      "outputs": [
        {
          "output_type": "stream",
          "name": "stderr",
          "text": [
            "INFO:prophet:Disabling weekly seasonality. Run prophet with weekly_seasonality=True to override this.\n",
            "INFO:prophet:Disabling daily seasonality. Run prophet with daily_seasonality=True to override this.\n",
            "DEBUG:cmdstanpy:input tempfile: /tmp/tmp9v9ce7ms/xkqrzm7u.json\n",
            "DEBUG:cmdstanpy:input tempfile: /tmp/tmp9v9ce7ms/3vymtcpn.json\n",
            "DEBUG:cmdstanpy:idx 0\n",
            "DEBUG:cmdstanpy:running CmdStan, num_threads: None\n",
            "DEBUG:cmdstanpy:CmdStan args: ['/usr/local/lib/python3.12/dist-packages/prophet/stan_model/prophet_model.bin', 'random', 'seed=94019', 'data', 'file=/tmp/tmp9v9ce7ms/xkqrzm7u.json', 'init=/tmp/tmp9v9ce7ms/3vymtcpn.json', 'output', 'file=/tmp/tmp9v9ce7ms/prophet_modeldzz0ztn7/prophet_model-20251003122430.csv', 'method=optimize', 'algorithm=lbfgs', 'iter=10000']\n",
            "12:24:30 - cmdstanpy - INFO - Chain [1] start processing\n",
            "INFO:cmdstanpy:Chain [1] start processing\n"
          ]
        },
        {
          "output_type": "stream",
          "name": "stdout",
          "text": [
            "Training Prophet for: Alabama\n"
          ]
        },
        {
          "output_type": "stream",
          "name": "stderr",
          "text": [
            "12:24:31 - cmdstanpy - INFO - Chain [1] done processing\n",
            "INFO:cmdstanpy:Chain [1] done processing\n",
            "INFO:prophet:Disabling weekly seasonality. Run prophet with weekly_seasonality=True to override this.\n",
            "INFO:prophet:Disabling daily seasonality. Run prophet with daily_seasonality=True to override this.\n",
            "DEBUG:cmdstanpy:input tempfile: /tmp/tmp9v9ce7ms/mbq5s59g.json\n",
            "DEBUG:cmdstanpy:input tempfile: /tmp/tmp9v9ce7ms/onwalyfb.json\n",
            "DEBUG:cmdstanpy:idx 0\n",
            "DEBUG:cmdstanpy:running CmdStan, num_threads: None\n",
            "DEBUG:cmdstanpy:CmdStan args: ['/usr/local/lib/python3.12/dist-packages/prophet/stan_model/prophet_model.bin', 'random', 'seed=5637', 'data', 'file=/tmp/tmp9v9ce7ms/mbq5s59g.json', 'init=/tmp/tmp9v9ce7ms/onwalyfb.json', 'output', 'file=/tmp/tmp9v9ce7ms/prophet_modelofbzc2zv/prophet_model-20251003122431.csv', 'method=optimize', 'algorithm=lbfgs', 'iter=10000']\n",
            "12:24:31 - cmdstanpy - INFO - Chain [1] start processing\n",
            "INFO:cmdstanpy:Chain [1] start processing\n"
          ]
        },
        {
          "output_type": "stream",
          "name": "stdout",
          "text": [
            "Training Prophet for: Alaska\n"
          ]
        },
        {
          "output_type": "stream",
          "name": "stderr",
          "text": [
            "12:24:31 - cmdstanpy - INFO - Chain [1] done processing\n",
            "INFO:cmdstanpy:Chain [1] done processing\n",
            "INFO:prophet:Disabling weekly seasonality. Run prophet with weekly_seasonality=True to override this.\n",
            "INFO:prophet:Disabling daily seasonality. Run prophet with daily_seasonality=True to override this.\n",
            "DEBUG:cmdstanpy:input tempfile: /tmp/tmp9v9ce7ms/rtqskj46.json\n",
            "DEBUG:cmdstanpy:input tempfile: /tmp/tmp9v9ce7ms/974hhfb0.json\n",
            "DEBUG:cmdstanpy:idx 0\n",
            "DEBUG:cmdstanpy:running CmdStan, num_threads: None\n",
            "DEBUG:cmdstanpy:CmdStan args: ['/usr/local/lib/python3.12/dist-packages/prophet/stan_model/prophet_model.bin', 'random', 'seed=22379', 'data', 'file=/tmp/tmp9v9ce7ms/rtqskj46.json', 'init=/tmp/tmp9v9ce7ms/974hhfb0.json', 'output', 'file=/tmp/tmp9v9ce7ms/prophet_model4k4xu64_/prophet_model-20251003122431.csv', 'method=optimize', 'algorithm=lbfgs', 'iter=10000']\n",
            "12:24:31 - cmdstanpy - INFO - Chain [1] start processing\n",
            "INFO:cmdstanpy:Chain [1] start processing\n"
          ]
        },
        {
          "output_type": "stream",
          "name": "stdout",
          "text": [
            "Training Prophet for: Arizona\n"
          ]
        },
        {
          "output_type": "stream",
          "name": "stderr",
          "text": [
            "12:24:31 - cmdstanpy - INFO - Chain [1] done processing\n",
            "INFO:cmdstanpy:Chain [1] done processing\n",
            "INFO:prophet:Disabling weekly seasonality. Run prophet with weekly_seasonality=True to override this.\n",
            "INFO:prophet:Disabling daily seasonality. Run prophet with daily_seasonality=True to override this.\n",
            "DEBUG:cmdstanpy:input tempfile: /tmp/tmp9v9ce7ms/98r2nn56.json\n",
            "DEBUG:cmdstanpy:input tempfile: /tmp/tmp9v9ce7ms/5ijn816q.json\n",
            "DEBUG:cmdstanpy:idx 0\n",
            "DEBUG:cmdstanpy:running CmdStan, num_threads: None\n",
            "DEBUG:cmdstanpy:CmdStan args: ['/usr/local/lib/python3.12/dist-packages/prophet/stan_model/prophet_model.bin', 'random', 'seed=87079', 'data', 'file=/tmp/tmp9v9ce7ms/98r2nn56.json', 'init=/tmp/tmp9v9ce7ms/5ijn816q.json', 'output', 'file=/tmp/tmp9v9ce7ms/prophet_modelev06i8r_/prophet_model-20251003122431.csv', 'method=optimize', 'algorithm=lbfgs', 'iter=10000']\n",
            "12:24:31 - cmdstanpy - INFO - Chain [1] start processing\n",
            "INFO:cmdstanpy:Chain [1] start processing\n",
            "12:24:31 - cmdstanpy - INFO - Chain [1] done processing\n",
            "INFO:cmdstanpy:Chain [1] done processing\n",
            "INFO:prophet:Disabling weekly seasonality. Run prophet with weekly_seasonality=True to override this.\n",
            "INFO:prophet:Disabling daily seasonality. Run prophet with daily_seasonality=True to override this.\n",
            "DEBUG:cmdstanpy:input tempfile: /tmp/tmp9v9ce7ms/fpa8rqrs.json\n",
            "DEBUG:cmdstanpy:input tempfile: /tmp/tmp9v9ce7ms/gjvunqxe.json\n",
            "DEBUG:cmdstanpy:idx 0\n",
            "DEBUG:cmdstanpy:running CmdStan, num_threads: None\n",
            "DEBUG:cmdstanpy:CmdStan args: ['/usr/local/lib/python3.12/dist-packages/prophet/stan_model/prophet_model.bin', 'random', 'seed=12435', 'data', 'file=/tmp/tmp9v9ce7ms/fpa8rqrs.json', 'init=/tmp/tmp9v9ce7ms/gjvunqxe.json', 'output', 'file=/tmp/tmp9v9ce7ms/prophet_modelqjz7hfaq/prophet_model-20251003122431.csv', 'method=optimize', 'algorithm=lbfgs', 'iter=10000']\n",
            "12:24:31 - cmdstanpy - INFO - Chain [1] start processing\n",
            "INFO:cmdstanpy:Chain [1] start processing\n"
          ]
        },
        {
          "output_type": "stream",
          "name": "stdout",
          "text": [
            "Training Prophet for: Arkansas\n",
            "Training Prophet for: California\n"
          ]
        },
        {
          "output_type": "stream",
          "name": "stderr",
          "text": [
            "12:24:32 - cmdstanpy - INFO - Chain [1] done processing\n",
            "INFO:cmdstanpy:Chain [1] done processing\n",
            "INFO:prophet:Disabling weekly seasonality. Run prophet with weekly_seasonality=True to override this.\n",
            "INFO:prophet:Disabling daily seasonality. Run prophet with daily_seasonality=True to override this.\n",
            "DEBUG:cmdstanpy:input tempfile: /tmp/tmp9v9ce7ms/w3rgmq3a.json\n",
            "DEBUG:cmdstanpy:input tempfile: /tmp/tmp9v9ce7ms/sswlndcf.json\n",
            "DEBUG:cmdstanpy:idx 0\n",
            "DEBUG:cmdstanpy:running CmdStan, num_threads: None\n",
            "DEBUG:cmdstanpy:CmdStan args: ['/usr/local/lib/python3.12/dist-packages/prophet/stan_model/prophet_model.bin', 'random', 'seed=31866', 'data', 'file=/tmp/tmp9v9ce7ms/w3rgmq3a.json', 'init=/tmp/tmp9v9ce7ms/sswlndcf.json', 'output', 'file=/tmp/tmp9v9ce7ms/prophet_model6_fw_plx/prophet_model-20251003122432.csv', 'method=optimize', 'algorithm=lbfgs', 'iter=10000']\n",
            "12:24:32 - cmdstanpy - INFO - Chain [1] start processing\n",
            "INFO:cmdstanpy:Chain [1] start processing\n",
            "12:24:32 - cmdstanpy - INFO - Chain [1] done processing\n",
            "INFO:cmdstanpy:Chain [1] done processing\n",
            "INFO:prophet:Disabling weekly seasonality. Run prophet with weekly_seasonality=True to override this.\n",
            "INFO:prophet:Disabling daily seasonality. Run prophet with daily_seasonality=True to override this.\n",
            "DEBUG:cmdstanpy:input tempfile: /tmp/tmp9v9ce7ms/u91gpejk.json\n"
          ]
        },
        {
          "output_type": "stream",
          "name": "stdout",
          "text": [
            "Training Prophet for: Colorado\n",
            "Training Prophet for: Connecticut\n"
          ]
        },
        {
          "output_type": "stream",
          "name": "stderr",
          "text": [
            "DEBUG:cmdstanpy:input tempfile: /tmp/tmp9v9ce7ms/ifqua89c.json\n",
            "DEBUG:cmdstanpy:idx 0\n",
            "DEBUG:cmdstanpy:running CmdStan, num_threads: None\n",
            "DEBUG:cmdstanpy:CmdStan args: ['/usr/local/lib/python3.12/dist-packages/prophet/stan_model/prophet_model.bin', 'random', 'seed=48841', 'data', 'file=/tmp/tmp9v9ce7ms/u91gpejk.json', 'init=/tmp/tmp9v9ce7ms/ifqua89c.json', 'output', 'file=/tmp/tmp9v9ce7ms/prophet_modelpkjkr66x/prophet_model-20251003122432.csv', 'method=optimize', 'algorithm=lbfgs', 'iter=10000']\n",
            "12:24:32 - cmdstanpy - INFO - Chain [1] start processing\n",
            "INFO:cmdstanpy:Chain [1] start processing\n",
            "12:24:32 - cmdstanpy - INFO - Chain [1] done processing\n",
            "INFO:cmdstanpy:Chain [1] done processing\n",
            "INFO:prophet:Disabling weekly seasonality. Run prophet with weekly_seasonality=True to override this.\n",
            "INFO:prophet:Disabling daily seasonality. Run prophet with daily_seasonality=True to override this.\n",
            "DEBUG:cmdstanpy:input tempfile: /tmp/tmp9v9ce7ms/0rt0yo9t.json\n",
            "DEBUG:cmdstanpy:input tempfile: /tmp/tmp9v9ce7ms/yrb1zo1m.json\n",
            "DEBUG:cmdstanpy:idx 0\n",
            "DEBUG:cmdstanpy:running CmdStan, num_threads: None\n",
            "DEBUG:cmdstanpy:CmdStan args: ['/usr/local/lib/python3.12/dist-packages/prophet/stan_model/prophet_model.bin', 'random', 'seed=46287', 'data', 'file=/tmp/tmp9v9ce7ms/0rt0yo9t.json', 'init=/tmp/tmp9v9ce7ms/yrb1zo1m.json', 'output', 'file=/tmp/tmp9v9ce7ms/prophet_model619nv17s/prophet_model-20251003122432.csv', 'method=optimize', 'algorithm=lbfgs', 'iter=10000']\n",
            "12:24:32 - cmdstanpy - INFO - Chain [1] start processing\n",
            "INFO:cmdstanpy:Chain [1] start processing\n",
            "12:24:32 - cmdstanpy - INFO - Chain [1] done processing\n",
            "INFO:cmdstanpy:Chain [1] done processing\n",
            "INFO:prophet:Disabling weekly seasonality. Run prophet with weekly_seasonality=True to override this.\n",
            "INFO:prophet:Disabling daily seasonality. Run prophet with daily_seasonality=True to override this.\n",
            "DEBUG:cmdstanpy:input tempfile: /tmp/tmp9v9ce7ms/gcif52fd.json\n",
            "DEBUG:cmdstanpy:input tempfile: /tmp/tmp9v9ce7ms/w3s28sn1.json\n",
            "DEBUG:cmdstanpy:idx 0\n"
          ]
        },
        {
          "output_type": "stream",
          "name": "stdout",
          "text": [
            "Training Prophet for: Delaware\n",
            "Training Prophet for: DistrictofColumbia\n"
          ]
        },
        {
          "output_type": "stream",
          "name": "stderr",
          "text": [
            "DEBUG:cmdstanpy:running CmdStan, num_threads: None\n",
            "DEBUG:cmdstanpy:CmdStan args: ['/usr/local/lib/python3.12/dist-packages/prophet/stan_model/prophet_model.bin', 'random', 'seed=26807', 'data', 'file=/tmp/tmp9v9ce7ms/gcif52fd.json', 'init=/tmp/tmp9v9ce7ms/w3s28sn1.json', 'output', 'file=/tmp/tmp9v9ce7ms/prophet_model3xt349g5/prophet_model-20251003122432.csv', 'method=optimize', 'algorithm=lbfgs', 'iter=10000']\n",
            "12:24:32 - cmdstanpy - INFO - Chain [1] start processing\n",
            "INFO:cmdstanpy:Chain [1] start processing\n",
            "12:24:32 - cmdstanpy - INFO - Chain [1] done processing\n",
            "INFO:cmdstanpy:Chain [1] done processing\n",
            "INFO:prophet:Disabling weekly seasonality. Run prophet with weekly_seasonality=True to override this.\n",
            "INFO:prophet:Disabling daily seasonality. Run prophet with daily_seasonality=True to override this.\n",
            "DEBUG:cmdstanpy:input tempfile: /tmp/tmp9v9ce7ms/mzu5kwvh.json\n",
            "DEBUG:cmdstanpy:input tempfile: /tmp/tmp9v9ce7ms/2h9c_nz5.json\n",
            "DEBUG:cmdstanpy:idx 0\n",
            "DEBUG:cmdstanpy:running CmdStan, num_threads: None\n",
            "DEBUG:cmdstanpy:CmdStan args: ['/usr/local/lib/python3.12/dist-packages/prophet/stan_model/prophet_model.bin', 'random', 'seed=6107', 'data', 'file=/tmp/tmp9v9ce7ms/mzu5kwvh.json', 'init=/tmp/tmp9v9ce7ms/2h9c_nz5.json', 'output', 'file=/tmp/tmp9v9ce7ms/prophet_modeld5v9sue4/prophet_model-20251003122432.csv', 'method=optimize', 'algorithm=lbfgs', 'iter=10000']\n",
            "12:24:32 - cmdstanpy - INFO - Chain [1] start processing\n",
            "INFO:cmdstanpy:Chain [1] start processing\n"
          ]
        },
        {
          "output_type": "stream",
          "name": "stdout",
          "text": [
            "Training Prophet for: Florida\n"
          ]
        },
        {
          "output_type": "stream",
          "name": "stderr",
          "text": [
            "12:24:33 - cmdstanpy - INFO - Chain [1] done processing\n",
            "INFO:cmdstanpy:Chain [1] done processing\n",
            "INFO:prophet:Disabling weekly seasonality. Run prophet with weekly_seasonality=True to override this.\n",
            "INFO:prophet:Disabling daily seasonality. Run prophet with daily_seasonality=True to override this.\n",
            "DEBUG:cmdstanpy:input tempfile: /tmp/tmp9v9ce7ms/j5jeqfbd.json\n",
            "DEBUG:cmdstanpy:input tempfile: /tmp/tmp9v9ce7ms/55nwrn1x.json\n",
            "DEBUG:cmdstanpy:idx 0\n",
            "DEBUG:cmdstanpy:running CmdStan, num_threads: None\n",
            "DEBUG:cmdstanpy:CmdStan args: ['/usr/local/lib/python3.12/dist-packages/prophet/stan_model/prophet_model.bin', 'random', 'seed=38285', 'data', 'file=/tmp/tmp9v9ce7ms/j5jeqfbd.json', 'init=/tmp/tmp9v9ce7ms/55nwrn1x.json', 'output', 'file=/tmp/tmp9v9ce7ms/prophet_modelalwrqhja/prophet_model-20251003122433.csv', 'method=optimize', 'algorithm=lbfgs', 'iter=10000']\n",
            "12:24:33 - cmdstanpy - INFO - Chain [1] start processing\n",
            "INFO:cmdstanpy:Chain [1] start processing\n",
            "12:24:33 - cmdstanpy - INFO - Chain [1] done processing\n",
            "INFO:cmdstanpy:Chain [1] done processing\n"
          ]
        },
        {
          "output_type": "stream",
          "name": "stdout",
          "text": [
            "Training Prophet for: Georgia\n",
            "Training Prophet for: Hawaii\n"
          ]
        },
        {
          "output_type": "stream",
          "name": "stderr",
          "text": [
            "INFO:prophet:Disabling weekly seasonality. Run prophet with weekly_seasonality=True to override this.\n",
            "INFO:prophet:Disabling daily seasonality. Run prophet with daily_seasonality=True to override this.\n",
            "DEBUG:cmdstanpy:input tempfile: /tmp/tmp9v9ce7ms/ghz554pa.json\n",
            "DEBUG:cmdstanpy:input tempfile: /tmp/tmp9v9ce7ms/xaw14k9f.json\n",
            "DEBUG:cmdstanpy:idx 0\n",
            "DEBUG:cmdstanpy:running CmdStan, num_threads: None\n",
            "DEBUG:cmdstanpy:CmdStan args: ['/usr/local/lib/python3.12/dist-packages/prophet/stan_model/prophet_model.bin', 'random', 'seed=34690', 'data', 'file=/tmp/tmp9v9ce7ms/ghz554pa.json', 'init=/tmp/tmp9v9ce7ms/xaw14k9f.json', 'output', 'file=/tmp/tmp9v9ce7ms/prophet_model8x219o00/prophet_model-20251003122433.csv', 'method=optimize', 'algorithm=lbfgs', 'iter=10000']\n",
            "12:24:33 - cmdstanpy - INFO - Chain [1] start processing\n",
            "INFO:cmdstanpy:Chain [1] start processing\n",
            "12:24:33 - cmdstanpy - INFO - Chain [1] done processing\n",
            "INFO:cmdstanpy:Chain [1] done processing\n",
            "INFO:prophet:Disabling weekly seasonality. Run prophet with weekly_seasonality=True to override this.\n",
            "INFO:prophet:Disabling daily seasonality. Run prophet with daily_seasonality=True to override this.\n",
            "DEBUG:cmdstanpy:input tempfile: /tmp/tmp9v9ce7ms/zce9o6pd.json\n",
            "DEBUG:cmdstanpy:input tempfile: /tmp/tmp9v9ce7ms/avbx41m3.json\n",
            "DEBUG:cmdstanpy:idx 0\n",
            "DEBUG:cmdstanpy:running CmdStan, num_threads: None\n",
            "DEBUG:cmdstanpy:CmdStan args: ['/usr/local/lib/python3.12/dist-packages/prophet/stan_model/prophet_model.bin', 'random', 'seed=96040', 'data', 'file=/tmp/tmp9v9ce7ms/zce9o6pd.json', 'init=/tmp/tmp9v9ce7ms/avbx41m3.json', 'output', 'file=/tmp/tmp9v9ce7ms/prophet_modelyfxz5nvk/prophet_model-20251003122433.csv', 'method=optimize', 'algorithm=lbfgs', 'iter=10000']\n",
            "12:24:33 - cmdstanpy - INFO - Chain [1] start processing\n",
            "INFO:cmdstanpy:Chain [1] start processing\n",
            "12:24:33 - cmdstanpy - INFO - Chain [1] done processing\n",
            "INFO:cmdstanpy:Chain [1] done processing\n",
            "INFO:prophet:Disabling weekly seasonality. Run prophet with weekly_seasonality=True to override this.\n",
            "INFO:prophet:Disabling daily seasonality. Run prophet with daily_seasonality=True to override this.\n",
            "DEBUG:cmdstanpy:input tempfile: /tmp/tmp9v9ce7ms/4s8ba1h_.json\n",
            "DEBUG:cmdstanpy:input tempfile: /tmp/tmp9v9ce7ms/6aq79ylc.json\n",
            "DEBUG:cmdstanpy:idx 0\n",
            "DEBUG:cmdstanpy:running CmdStan, num_threads: None\n",
            "DEBUG:cmdstanpy:CmdStan args: ['/usr/local/lib/python3.12/dist-packages/prophet/stan_model/prophet_model.bin', 'random', 'seed=59995', 'data', 'file=/tmp/tmp9v9ce7ms/4s8ba1h_.json', 'init=/tmp/tmp9v9ce7ms/6aq79ylc.json', 'output', 'file=/tmp/tmp9v9ce7ms/prophet_model539cp8hg/prophet_model-20251003122433.csv', 'method=optimize', 'algorithm=lbfgs', 'iter=10000']\n",
            "12:24:33 - cmdstanpy - INFO - Chain [1] start processing\n",
            "INFO:cmdstanpy:Chain [1] start processing\n"
          ]
        },
        {
          "output_type": "stream",
          "name": "stdout",
          "text": [
            "Training Prophet for: Idaho\n",
            "Training Prophet for: Illinois\n"
          ]
        },
        {
          "output_type": "stream",
          "name": "stderr",
          "text": [
            "12:24:33 - cmdstanpy - INFO - Chain [1] done processing\n",
            "INFO:cmdstanpy:Chain [1] done processing\n",
            "INFO:prophet:Disabling weekly seasonality. Run prophet with weekly_seasonality=True to override this.\n",
            "INFO:prophet:Disabling daily seasonality. Run prophet with daily_seasonality=True to override this.\n",
            "DEBUG:cmdstanpy:input tempfile: /tmp/tmp9v9ce7ms/qhxl0y9y.json\n",
            "DEBUG:cmdstanpy:input tempfile: /tmp/tmp9v9ce7ms/j5ocn9ga.json\n",
            "DEBUG:cmdstanpy:idx 0\n",
            "DEBUG:cmdstanpy:running CmdStan, num_threads: None\n",
            "DEBUG:cmdstanpy:CmdStan args: ['/usr/local/lib/python3.12/dist-packages/prophet/stan_model/prophet_model.bin', 'random', 'seed=39408', 'data', 'file=/tmp/tmp9v9ce7ms/qhxl0y9y.json', 'init=/tmp/tmp9v9ce7ms/j5ocn9ga.json', 'output', 'file=/tmp/tmp9v9ce7ms/prophet_model3pwu7x4a/prophet_model-20251003122433.csv', 'method=optimize', 'algorithm=lbfgs', 'iter=10000']\n",
            "12:24:33 - cmdstanpy - INFO - Chain [1] start processing\n",
            "INFO:cmdstanpy:Chain [1] start processing\n"
          ]
        },
        {
          "output_type": "stream",
          "name": "stdout",
          "text": [
            "Training Prophet for: Indiana\n"
          ]
        },
        {
          "output_type": "stream",
          "name": "stderr",
          "text": [
            "12:24:34 - cmdstanpy - INFO - Chain [1] done processing\n",
            "INFO:cmdstanpy:Chain [1] done processing\n",
            "INFO:prophet:Disabling weekly seasonality. Run prophet with weekly_seasonality=True to override this.\n",
            "INFO:prophet:Disabling daily seasonality. Run prophet with daily_seasonality=True to override this.\n",
            "DEBUG:cmdstanpy:input tempfile: /tmp/tmp9v9ce7ms/jsxw7kxz.json\n",
            "DEBUG:cmdstanpy:input tempfile: /tmp/tmp9v9ce7ms/doaeyszg.json\n",
            "DEBUG:cmdstanpy:idx 0\n",
            "DEBUG:cmdstanpy:running CmdStan, num_threads: None\n",
            "DEBUG:cmdstanpy:CmdStan args: ['/usr/local/lib/python3.12/dist-packages/prophet/stan_model/prophet_model.bin', 'random', 'seed=47320', 'data', 'file=/tmp/tmp9v9ce7ms/jsxw7kxz.json', 'init=/tmp/tmp9v9ce7ms/doaeyszg.json', 'output', 'file=/tmp/tmp9v9ce7ms/prophet_modelwppyydxv/prophet_model-20251003122434.csv', 'method=optimize', 'algorithm=lbfgs', 'iter=10000']\n",
            "12:24:34 - cmdstanpy - INFO - Chain [1] start processing\n",
            "INFO:cmdstanpy:Chain [1] start processing\n",
            "12:24:34 - cmdstanpy - INFO - Chain [1] done processing\n",
            "INFO:cmdstanpy:Chain [1] done processing\n",
            "INFO:prophet:Disabling weekly seasonality. Run prophet with weekly_seasonality=True to override this.\n",
            "INFO:prophet:Disabling daily seasonality. Run prophet with daily_seasonality=True to override this.\n",
            "DEBUG:cmdstanpy:input tempfile: /tmp/tmp9v9ce7ms/sux3hx74.json\n",
            "DEBUG:cmdstanpy:input tempfile: /tmp/tmp9v9ce7ms/lys20dct.json\n",
            "DEBUG:cmdstanpy:idx 0\n",
            "DEBUG:cmdstanpy:running CmdStan, num_threads: None\n",
            "DEBUG:cmdstanpy:CmdStan args: ['/usr/local/lib/python3.12/dist-packages/prophet/stan_model/prophet_model.bin', 'random', 'seed=55244', 'data', 'file=/tmp/tmp9v9ce7ms/sux3hx74.json', 'init=/tmp/tmp9v9ce7ms/lys20dct.json', 'output', 'file=/tmp/tmp9v9ce7ms/prophet_modelf1yrvm72/prophet_model-20251003122434.csv', 'method=optimize', 'algorithm=lbfgs', 'iter=10000']\n",
            "12:24:34 - cmdstanpy - INFO - Chain [1] start processing\n",
            "INFO:cmdstanpy:Chain [1] start processing\n"
          ]
        },
        {
          "output_type": "stream",
          "name": "stdout",
          "text": [
            "Training Prophet for: Iowa\n",
            "Training Prophet for: Kansas\n"
          ]
        },
        {
          "output_type": "stream",
          "name": "stderr",
          "text": [
            "12:24:34 - cmdstanpy - INFO - Chain [1] done processing\n",
            "INFO:cmdstanpy:Chain [1] done processing\n",
            "INFO:prophet:Disabling weekly seasonality. Run prophet with weekly_seasonality=True to override this.\n",
            "INFO:prophet:Disabling daily seasonality. Run prophet with daily_seasonality=True to override this.\n",
            "DEBUG:cmdstanpy:input tempfile: /tmp/tmp9v9ce7ms/1f8x5ie9.json\n",
            "DEBUG:cmdstanpy:input tempfile: /tmp/tmp9v9ce7ms/_pbz3q8l.json\n",
            "DEBUG:cmdstanpy:idx 0\n",
            "DEBUG:cmdstanpy:running CmdStan, num_threads: None\n",
            "DEBUG:cmdstanpy:CmdStan args: ['/usr/local/lib/python3.12/dist-packages/prophet/stan_model/prophet_model.bin', 'random', 'seed=38813', 'data', 'file=/tmp/tmp9v9ce7ms/1f8x5ie9.json', 'init=/tmp/tmp9v9ce7ms/_pbz3q8l.json', 'output', 'file=/tmp/tmp9v9ce7ms/prophet_modelplh858ic/prophet_model-20251003122434.csv', 'method=optimize', 'algorithm=lbfgs', 'iter=10000']\n",
            "12:24:34 - cmdstanpy - INFO - Chain [1] start processing\n",
            "INFO:cmdstanpy:Chain [1] start processing\n",
            "12:24:34 - cmdstanpy - INFO - Chain [1] done processing\n",
            "INFO:cmdstanpy:Chain [1] done processing\n",
            "INFO:prophet:Disabling weekly seasonality. Run prophet with weekly_seasonality=True to override this.\n",
            "INFO:prophet:Disabling daily seasonality. Run prophet with daily_seasonality=True to override this.\n",
            "DEBUG:cmdstanpy:input tempfile: /tmp/tmp9v9ce7ms/7y6_n14q.json\n",
            "DEBUG:cmdstanpy:input tempfile: /tmp/tmp9v9ce7ms/2w95idp5.json\n",
            "DEBUG:cmdstanpy:idx 0\n",
            "DEBUG:cmdstanpy:running CmdStan, num_threads: None\n",
            "DEBUG:cmdstanpy:CmdStan args: ['/usr/local/lib/python3.12/dist-packages/prophet/stan_model/prophet_model.bin', 'random', 'seed=59967', 'data', 'file=/tmp/tmp9v9ce7ms/7y6_n14q.json', 'init=/tmp/tmp9v9ce7ms/2w95idp5.json', 'output', 'file=/tmp/tmp9v9ce7ms/prophet_modelvkb_flln/prophet_model-20251003122434.csv', 'method=optimize', 'algorithm=lbfgs', 'iter=10000']\n",
            "12:24:34 - cmdstanpy - INFO - Chain [1] start processing\n",
            "INFO:cmdstanpy:Chain [1] start processing\n"
          ]
        },
        {
          "output_type": "stream",
          "name": "stdout",
          "text": [
            "Training Prophet for: Kentucky\n",
            "Training Prophet for: Maine\n"
          ]
        },
        {
          "output_type": "stream",
          "name": "stderr",
          "text": [
            "12:24:34 - cmdstanpy - INFO - Chain [1] done processing\n",
            "INFO:cmdstanpy:Chain [1] done processing\n",
            "INFO:prophet:Disabling weekly seasonality. Run prophet with weekly_seasonality=True to override this.\n",
            "INFO:prophet:Disabling daily seasonality. Run prophet with daily_seasonality=True to override this.\n",
            "DEBUG:cmdstanpy:input tempfile: /tmp/tmp9v9ce7ms/ahvwmktk.json\n",
            "DEBUG:cmdstanpy:input tempfile: /tmp/tmp9v9ce7ms/ua70yry_.json\n",
            "DEBUG:cmdstanpy:idx 0\n",
            "DEBUG:cmdstanpy:running CmdStan, num_threads: None\n",
            "DEBUG:cmdstanpy:CmdStan args: ['/usr/local/lib/python3.12/dist-packages/prophet/stan_model/prophet_model.bin', 'random', 'seed=78884', 'data', 'file=/tmp/tmp9v9ce7ms/ahvwmktk.json', 'init=/tmp/tmp9v9ce7ms/ua70yry_.json', 'output', 'file=/tmp/tmp9v9ce7ms/prophet_model448iyrnb/prophet_model-20251003122434.csv', 'method=optimize', 'algorithm=lbfgs', 'iter=10000']\n",
            "12:24:34 - cmdstanpy - INFO - Chain [1] start processing\n",
            "INFO:cmdstanpy:Chain [1] start processing\n"
          ]
        },
        {
          "output_type": "stream",
          "name": "stdout",
          "text": [
            "Training Prophet for: Maryland\n"
          ]
        },
        {
          "output_type": "stream",
          "name": "stderr",
          "text": [
            "12:24:35 - cmdstanpy - INFO - Chain [1] done processing\n",
            "INFO:cmdstanpy:Chain [1] done processing\n",
            "INFO:prophet:Disabling weekly seasonality. Run prophet with weekly_seasonality=True to override this.\n",
            "INFO:prophet:Disabling daily seasonality. Run prophet with daily_seasonality=True to override this.\n",
            "DEBUG:cmdstanpy:input tempfile: /tmp/tmp9v9ce7ms/40mj5ele.json\n",
            "DEBUG:cmdstanpy:input tempfile: /tmp/tmp9v9ce7ms/6hlds98u.json\n",
            "DEBUG:cmdstanpy:idx 0\n",
            "DEBUG:cmdstanpy:running CmdStan, num_threads: None\n",
            "DEBUG:cmdstanpy:CmdStan args: ['/usr/local/lib/python3.12/dist-packages/prophet/stan_model/prophet_model.bin', 'random', 'seed=95783', 'data', 'file=/tmp/tmp9v9ce7ms/40mj5ele.json', 'init=/tmp/tmp9v9ce7ms/6hlds98u.json', 'output', 'file=/tmp/tmp9v9ce7ms/prophet_modeloko1011r/prophet_model-20251003122435.csv', 'method=optimize', 'algorithm=lbfgs', 'iter=10000']\n",
            "12:24:35 - cmdstanpy - INFO - Chain [1] start processing\n",
            "INFO:cmdstanpy:Chain [1] start processing\n",
            "12:24:35 - cmdstanpy - INFO - Chain [1] done processing\n",
            "INFO:cmdstanpy:Chain [1] done processing\n"
          ]
        },
        {
          "output_type": "stream",
          "name": "stdout",
          "text": [
            "Training Prophet for: Massachusetts\n",
            "Training Prophet for: Michigan\n"
          ]
        },
        {
          "output_type": "stream",
          "name": "stderr",
          "text": [
            "INFO:prophet:Disabling weekly seasonality. Run prophet with weekly_seasonality=True to override this.\n",
            "INFO:prophet:Disabling daily seasonality. Run prophet with daily_seasonality=True to override this.\n",
            "DEBUG:cmdstanpy:input tempfile: /tmp/tmp9v9ce7ms/8io23n6i.json\n",
            "DEBUG:cmdstanpy:input tempfile: /tmp/tmp9v9ce7ms/7s9a_bqt.json\n",
            "DEBUG:cmdstanpy:idx 0\n",
            "DEBUG:cmdstanpy:running CmdStan, num_threads: None\n",
            "DEBUG:cmdstanpy:CmdStan args: ['/usr/local/lib/python3.12/dist-packages/prophet/stan_model/prophet_model.bin', 'random', 'seed=87629', 'data', 'file=/tmp/tmp9v9ce7ms/8io23n6i.json', 'init=/tmp/tmp9v9ce7ms/7s9a_bqt.json', 'output', 'file=/tmp/tmp9v9ce7ms/prophet_modelu85bipzz/prophet_model-20251003122435.csv', 'method=optimize', 'algorithm=lbfgs', 'iter=10000']\n",
            "12:24:35 - cmdstanpy - INFO - Chain [1] start processing\n",
            "INFO:cmdstanpy:Chain [1] start processing\n",
            "12:24:35 - cmdstanpy - INFO - Chain [1] done processing\n",
            "INFO:cmdstanpy:Chain [1] done processing\n",
            "INFO:prophet:Disabling weekly seasonality. Run prophet with weekly_seasonality=True to override this.\n",
            "INFO:prophet:Disabling daily seasonality. Run prophet with daily_seasonality=True to override this.\n",
            "DEBUG:cmdstanpy:input tempfile: /tmp/tmp9v9ce7ms/rwd2mhaw.json\n",
            "DEBUG:cmdstanpy:input tempfile: /tmp/tmp9v9ce7ms/gct241lf.json\n",
            "DEBUG:cmdstanpy:idx 0\n",
            "DEBUG:cmdstanpy:running CmdStan, num_threads: None\n",
            "DEBUG:cmdstanpy:CmdStan args: ['/usr/local/lib/python3.12/dist-packages/prophet/stan_model/prophet_model.bin', 'random', 'seed=44842', 'data', 'file=/tmp/tmp9v9ce7ms/rwd2mhaw.json', 'init=/tmp/tmp9v9ce7ms/gct241lf.json', 'output', 'file=/tmp/tmp9v9ce7ms/prophet_model3syvekex/prophet_model-20251003122435.csv', 'method=optimize', 'algorithm=lbfgs', 'iter=10000']\n",
            "12:24:35 - cmdstanpy - INFO - Chain [1] start processing\n",
            "INFO:cmdstanpy:Chain [1] start processing\n",
            "12:24:35 - cmdstanpy - INFO - Chain [1] done processing\n",
            "INFO:cmdstanpy:Chain [1] done processing\n",
            "INFO:prophet:Disabling weekly seasonality. Run prophet with weekly_seasonality=True to override this.\n",
            "INFO:prophet:Disabling daily seasonality. Run prophet with daily_seasonality=True to override this.\n",
            "DEBUG:cmdstanpy:input tempfile: /tmp/tmp9v9ce7ms/qoglbjx8.json\n",
            "DEBUG:cmdstanpy:input tempfile: /tmp/tmp9v9ce7ms/5cmqcn37.json\n",
            "DEBUG:cmdstanpy:idx 0\n",
            "DEBUG:cmdstanpy:running CmdStan, num_threads: None\n",
            "DEBUG:cmdstanpy:CmdStan args: ['/usr/local/lib/python3.12/dist-packages/prophet/stan_model/prophet_model.bin', 'random', 'seed=33927', 'data', 'file=/tmp/tmp9v9ce7ms/qoglbjx8.json', 'init=/tmp/tmp9v9ce7ms/5cmqcn37.json', 'output', 'file=/tmp/tmp9v9ce7ms/prophet_modelly858dwv/prophet_model-20251003122435.csv', 'method=optimize', 'algorithm=lbfgs', 'iter=10000']\n",
            "12:24:35 - cmdstanpy - INFO - Chain [1] start processing\n",
            "INFO:cmdstanpy:Chain [1] start processing\n"
          ]
        },
        {
          "output_type": "stream",
          "name": "stdout",
          "text": [
            "Training Prophet for: Minnesota\n",
            "Training Prophet for: Mississippi\n"
          ]
        },
        {
          "output_type": "stream",
          "name": "stderr",
          "text": [
            "12:24:35 - cmdstanpy - INFO - Chain [1] done processing\n",
            "INFO:cmdstanpy:Chain [1] done processing\n",
            "INFO:prophet:Disabling weekly seasonality. Run prophet with weekly_seasonality=True to override this.\n",
            "INFO:prophet:Disabling daily seasonality. Run prophet with daily_seasonality=True to override this.\n",
            "DEBUG:cmdstanpy:input tempfile: /tmp/tmp9v9ce7ms/fp2a0n6a.json\n",
            "DEBUG:cmdstanpy:input tempfile: /tmp/tmp9v9ce7ms/i8zkk1nz.json\n",
            "DEBUG:cmdstanpy:idx 0\n",
            "DEBUG:cmdstanpy:running CmdStan, num_threads: None\n",
            "DEBUG:cmdstanpy:CmdStan args: ['/usr/local/lib/python3.12/dist-packages/prophet/stan_model/prophet_model.bin', 'random', 'seed=39817', 'data', 'file=/tmp/tmp9v9ce7ms/fp2a0n6a.json', 'init=/tmp/tmp9v9ce7ms/i8zkk1nz.json', 'output', 'file=/tmp/tmp9v9ce7ms/prophet_modelzqjergbk/prophet_model-20251003122435.csv', 'method=optimize', 'algorithm=lbfgs', 'iter=10000']\n",
            "12:24:35 - cmdstanpy - INFO - Chain [1] start processing\n",
            "INFO:cmdstanpy:Chain [1] start processing\n"
          ]
        },
        {
          "output_type": "stream",
          "name": "stdout",
          "text": [
            "Training Prophet for: Missouri\n"
          ]
        },
        {
          "output_type": "stream",
          "name": "stderr",
          "text": [
            "12:24:36 - cmdstanpy - INFO - Chain [1] done processing\n",
            "INFO:cmdstanpy:Chain [1] done processing\n",
            "INFO:prophet:Disabling weekly seasonality. Run prophet with weekly_seasonality=True to override this.\n",
            "INFO:prophet:Disabling daily seasonality. Run prophet with daily_seasonality=True to override this.\n",
            "DEBUG:cmdstanpy:input tempfile: /tmp/tmp9v9ce7ms/lvp47xo6.json\n",
            "DEBUG:cmdstanpy:input tempfile: /tmp/tmp9v9ce7ms/uruzymxb.json\n",
            "DEBUG:cmdstanpy:idx 0\n",
            "DEBUG:cmdstanpy:running CmdStan, num_threads: None\n",
            "DEBUG:cmdstanpy:CmdStan args: ['/usr/local/lib/python3.12/dist-packages/prophet/stan_model/prophet_model.bin', 'random', 'seed=15789', 'data', 'file=/tmp/tmp9v9ce7ms/lvp47xo6.json', 'init=/tmp/tmp9v9ce7ms/uruzymxb.json', 'output', 'file=/tmp/tmp9v9ce7ms/prophet_modeleba26qxr/prophet_model-20251003122436.csv', 'method=optimize', 'algorithm=lbfgs', 'iter=10000']\n",
            "12:24:36 - cmdstanpy - INFO - Chain [1] start processing\n",
            "INFO:cmdstanpy:Chain [1] start processing\n",
            "12:24:36 - cmdstanpy - INFO - Chain [1] done processing\n",
            "INFO:cmdstanpy:Chain [1] done processing\n",
            "INFO:prophet:Disabling weekly seasonality. Run prophet with weekly_seasonality=True to override this.\n",
            "INFO:prophet:Disabling daily seasonality. Run prophet with daily_seasonality=True to override this.\n",
            "DEBUG:cmdstanpy:input tempfile: /tmp/tmp9v9ce7ms/3xz30kmk.json\n",
            "DEBUG:cmdstanpy:input tempfile: /tmp/tmp9v9ce7ms/h1e40rme.json\n",
            "DEBUG:cmdstanpy:idx 0\n",
            "DEBUG:cmdstanpy:running CmdStan, num_threads: None\n",
            "DEBUG:cmdstanpy:CmdStan args: ['/usr/local/lib/python3.12/dist-packages/prophet/stan_model/prophet_model.bin', 'random', 'seed=24797', 'data', 'file=/tmp/tmp9v9ce7ms/3xz30kmk.json', 'init=/tmp/tmp9v9ce7ms/h1e40rme.json', 'output', 'file=/tmp/tmp9v9ce7ms/prophet_modelyjg8fkh6/prophet_model-20251003122436.csv', 'method=optimize', 'algorithm=lbfgs', 'iter=10000']\n",
            "12:24:36 - cmdstanpy - INFO - Chain [1] start processing\n",
            "INFO:cmdstanpy:Chain [1] start processing\n"
          ]
        },
        {
          "output_type": "stream",
          "name": "stdout",
          "text": [
            "Training Prophet for: Montana\n",
            "Training Prophet for: Nebraska\n"
          ]
        },
        {
          "output_type": "stream",
          "name": "stderr",
          "text": [
            "12:24:36 - cmdstanpy - INFO - Chain [1] done processing\n",
            "INFO:cmdstanpy:Chain [1] done processing\n",
            "INFO:prophet:Disabling weekly seasonality. Run prophet with weekly_seasonality=True to override this.\n",
            "INFO:prophet:Disabling daily seasonality. Run prophet with daily_seasonality=True to override this.\n",
            "DEBUG:cmdstanpy:input tempfile: /tmp/tmp9v9ce7ms/k6r4twi4.json\n",
            "DEBUG:cmdstanpy:input tempfile: /tmp/tmp9v9ce7ms/78pcwqs2.json\n",
            "DEBUG:cmdstanpy:idx 0\n",
            "DEBUG:cmdstanpy:running CmdStan, num_threads: None\n",
            "DEBUG:cmdstanpy:CmdStan args: ['/usr/local/lib/python3.12/dist-packages/prophet/stan_model/prophet_model.bin', 'random', 'seed=94741', 'data', 'file=/tmp/tmp9v9ce7ms/k6r4twi4.json', 'init=/tmp/tmp9v9ce7ms/78pcwqs2.json', 'output', 'file=/tmp/tmp9v9ce7ms/prophet_modelkavzqjbl/prophet_model-20251003122436.csv', 'method=optimize', 'algorithm=lbfgs', 'iter=10000']\n",
            "12:24:36 - cmdstanpy - INFO - Chain [1] start processing\n",
            "INFO:cmdstanpy:Chain [1] start processing\n"
          ]
        },
        {
          "output_type": "stream",
          "name": "stdout",
          "text": [
            "Training Prophet for: Nevada\n"
          ]
        },
        {
          "output_type": "stream",
          "name": "stderr",
          "text": [
            "12:24:36 - cmdstanpy - INFO - Chain [1] done processing\n",
            "INFO:cmdstanpy:Chain [1] done processing\n",
            "INFO:prophet:Disabling weekly seasonality. Run prophet with weekly_seasonality=True to override this.\n",
            "INFO:prophet:Disabling daily seasonality. Run prophet with daily_seasonality=True to override this.\n",
            "DEBUG:cmdstanpy:input tempfile: /tmp/tmp9v9ce7ms/lbwf1l8p.json\n",
            "DEBUG:cmdstanpy:input tempfile: /tmp/tmp9v9ce7ms/94wox8y4.json\n",
            "DEBUG:cmdstanpy:idx 0\n",
            "DEBUG:cmdstanpy:running CmdStan, num_threads: None\n",
            "DEBUG:cmdstanpy:CmdStan args: ['/usr/local/lib/python3.12/dist-packages/prophet/stan_model/prophet_model.bin', 'random', 'seed=39498', 'data', 'file=/tmp/tmp9v9ce7ms/lbwf1l8p.json', 'init=/tmp/tmp9v9ce7ms/94wox8y4.json', 'output', 'file=/tmp/tmp9v9ce7ms/prophet_modelp1j3wbqa/prophet_model-20251003122436.csv', 'method=optimize', 'algorithm=lbfgs', 'iter=10000']\n",
            "12:24:36 - cmdstanpy - INFO - Chain [1] start processing\n",
            "INFO:cmdstanpy:Chain [1] start processing\n",
            "12:24:36 - cmdstanpy - INFO - Chain [1] done processing\n",
            "INFO:cmdstanpy:Chain [1] done processing\n",
            "INFO:prophet:Disabling weekly seasonality. Run prophet with weekly_seasonality=True to override this.\n",
            "INFO:prophet:Disabling daily seasonality. Run prophet with daily_seasonality=True to override this.\n"
          ]
        },
        {
          "output_type": "stream",
          "name": "stdout",
          "text": [
            "Training Prophet for: NewHampshire\n",
            "Training Prophet for: NewJersey\n"
          ]
        },
        {
          "output_type": "stream",
          "name": "stderr",
          "text": [
            "DEBUG:cmdstanpy:input tempfile: /tmp/tmp9v9ce7ms/uo8crm89.json\n",
            "DEBUG:cmdstanpy:input tempfile: /tmp/tmp9v9ce7ms/xft7s45y.json\n",
            "DEBUG:cmdstanpy:idx 0\n",
            "DEBUG:cmdstanpy:running CmdStan, num_threads: None\n",
            "DEBUG:cmdstanpy:CmdStan args: ['/usr/local/lib/python3.12/dist-packages/prophet/stan_model/prophet_model.bin', 'random', 'seed=52280', 'data', 'file=/tmp/tmp9v9ce7ms/uo8crm89.json', 'init=/tmp/tmp9v9ce7ms/xft7s45y.json', 'output', 'file=/tmp/tmp9v9ce7ms/prophet_model92w414ep/prophet_model-20251003122436.csv', 'method=optimize', 'algorithm=lbfgs', 'iter=10000']\n",
            "12:24:36 - cmdstanpy - INFO - Chain [1] start processing\n",
            "INFO:cmdstanpy:Chain [1] start processing\n",
            "12:24:36 - cmdstanpy - INFO - Chain [1] done processing\n",
            "INFO:cmdstanpy:Chain [1] done processing\n",
            "INFO:prophet:Disabling weekly seasonality. Run prophet with weekly_seasonality=True to override this.\n",
            "INFO:prophet:Disabling daily seasonality. Run prophet with daily_seasonality=True to override this.\n",
            "DEBUG:cmdstanpy:input tempfile: /tmp/tmp9v9ce7ms/5afws7_e.json\n",
            "DEBUG:cmdstanpy:input tempfile: /tmp/tmp9v9ce7ms/1d1inkb1.json\n",
            "DEBUG:cmdstanpy:idx 0\n",
            "DEBUG:cmdstanpy:running CmdStan, num_threads: None\n",
            "DEBUG:cmdstanpy:CmdStan args: ['/usr/local/lib/python3.12/dist-packages/prophet/stan_model/prophet_model.bin', 'random', 'seed=19214', 'data', 'file=/tmp/tmp9v9ce7ms/5afws7_e.json', 'init=/tmp/tmp9v9ce7ms/1d1inkb1.json', 'output', 'file=/tmp/tmp9v9ce7ms/prophet_modeldzggwpg3/prophet_model-20251003122437.csv', 'method=optimize', 'algorithm=lbfgs', 'iter=10000']\n",
            "12:24:37 - cmdstanpy - INFO - Chain [1] start processing\n",
            "INFO:cmdstanpy:Chain [1] start processing\n",
            "12:24:37 - cmdstanpy - INFO - Chain [1] done processing\n",
            "INFO:cmdstanpy:Chain [1] done processing\n",
            "INFO:prophet:Disabling weekly seasonality. Run prophet with weekly_seasonality=True to override this.\n",
            "INFO:prophet:Disabling daily seasonality. Run prophet with daily_seasonality=True to override this.\n",
            "DEBUG:cmdstanpy:input tempfile: /tmp/tmp9v9ce7ms/_tux_y0c.json\n",
            "DEBUG:cmdstanpy:input tempfile: /tmp/tmp9v9ce7ms/qol8p62p.json\n",
            "DEBUG:cmdstanpy:idx 0\n",
            "DEBUG:cmdstanpy:running CmdStan, num_threads: None\n"
          ]
        },
        {
          "output_type": "stream",
          "name": "stdout",
          "text": [
            "Training Prophet for: NewMexico\n",
            "Training Prophet for: NewYork\n"
          ]
        },
        {
          "output_type": "stream",
          "name": "stderr",
          "text": [
            "DEBUG:cmdstanpy:CmdStan args: ['/usr/local/lib/python3.12/dist-packages/prophet/stan_model/prophet_model.bin', 'random', 'seed=83253', 'data', 'file=/tmp/tmp9v9ce7ms/_tux_y0c.json', 'init=/tmp/tmp9v9ce7ms/qol8p62p.json', 'output', 'file=/tmp/tmp9v9ce7ms/prophet_model23_5hmic/prophet_model-20251003122437.csv', 'method=optimize', 'algorithm=lbfgs', 'iter=10000']\n",
            "12:24:37 - cmdstanpy - INFO - Chain [1] start processing\n",
            "INFO:cmdstanpy:Chain [1] start processing\n",
            "12:24:37 - cmdstanpy - INFO - Chain [1] done processing\n",
            "INFO:cmdstanpy:Chain [1] done processing\n",
            "INFO:prophet:Disabling weekly seasonality. Run prophet with weekly_seasonality=True to override this.\n",
            "INFO:prophet:Disabling daily seasonality. Run prophet with daily_seasonality=True to override this.\n",
            "DEBUG:cmdstanpy:input tempfile: /tmp/tmp9v9ce7ms/edopia1v.json\n",
            "DEBUG:cmdstanpy:input tempfile: /tmp/tmp9v9ce7ms/ttmmttmo.json\n",
            "DEBUG:cmdstanpy:idx 0\n",
            "DEBUG:cmdstanpy:running CmdStan, num_threads: None\n",
            "DEBUG:cmdstanpy:CmdStan args: ['/usr/local/lib/python3.12/dist-packages/prophet/stan_model/prophet_model.bin', 'random', 'seed=51224', 'data', 'file=/tmp/tmp9v9ce7ms/edopia1v.json', 'init=/tmp/tmp9v9ce7ms/ttmmttmo.json', 'output', 'file=/tmp/tmp9v9ce7ms/prophet_modelzwyyx16f/prophet_model-20251003122437.csv', 'method=optimize', 'algorithm=lbfgs', 'iter=10000']\n",
            "12:24:37 - cmdstanpy - INFO - Chain [1] start processing\n",
            "INFO:cmdstanpy:Chain [1] start processing\n",
            "12:24:37 - cmdstanpy - INFO - Chain [1] done processing\n",
            "INFO:cmdstanpy:Chain [1] done processing\n",
            "INFO:prophet:Disabling weekly seasonality. Run prophet with weekly_seasonality=True to override this.\n",
            "INFO:prophet:Disabling daily seasonality. Run prophet with daily_seasonality=True to override this.\n",
            "DEBUG:cmdstanpy:input tempfile: /tmp/tmp9v9ce7ms/edftym56.json\n",
            "DEBUG:cmdstanpy:input tempfile: /tmp/tmp9v9ce7ms/dt_ycw7a.json\n",
            "DEBUG:cmdstanpy:idx 0\n",
            "DEBUG:cmdstanpy:running CmdStan, num_threads: None\n",
            "DEBUG:cmdstanpy:CmdStan args: ['/usr/local/lib/python3.12/dist-packages/prophet/stan_model/prophet_model.bin', 'random', 'seed=13781', 'data', 'file=/tmp/tmp9v9ce7ms/edftym56.json', 'init=/tmp/tmp9v9ce7ms/dt_ycw7a.json', 'output', 'file=/tmp/tmp9v9ce7ms/prophet_model9l7ofm97/prophet_model-20251003122437.csv', 'method=optimize', 'algorithm=lbfgs', 'iter=10000']\n",
            "12:24:37 - cmdstanpy - INFO - Chain [1] start processing\n",
            "INFO:cmdstanpy:Chain [1] start processing\n"
          ]
        },
        {
          "output_type": "stream",
          "name": "stdout",
          "text": [
            "Training Prophet for: NorthCarolina\n",
            "Training Prophet for: NorthDakota\n"
          ]
        },
        {
          "output_type": "stream",
          "name": "stderr",
          "text": [
            "12:24:37 - cmdstanpy - INFO - Chain [1] done processing\n",
            "INFO:cmdstanpy:Chain [1] done processing\n",
            "INFO:prophet:Disabling weekly seasonality. Run prophet with weekly_seasonality=True to override this.\n",
            "INFO:prophet:Disabling daily seasonality. Run prophet with daily_seasonality=True to override this.\n",
            "DEBUG:cmdstanpy:input tempfile: /tmp/tmp9v9ce7ms/93y6jxdz.json\n",
            "DEBUG:cmdstanpy:input tempfile: /tmp/tmp9v9ce7ms/ko4vnx0j.json\n",
            "DEBUG:cmdstanpy:idx 0\n",
            "DEBUG:cmdstanpy:running CmdStan, num_threads: None\n",
            "DEBUG:cmdstanpy:CmdStan args: ['/usr/local/lib/python3.12/dist-packages/prophet/stan_model/prophet_model.bin', 'random', 'seed=22422', 'data', 'file=/tmp/tmp9v9ce7ms/93y6jxdz.json', 'init=/tmp/tmp9v9ce7ms/ko4vnx0j.json', 'output', 'file=/tmp/tmp9v9ce7ms/prophet_modelogzu9y5t/prophet_model-20251003122437.csv', 'method=optimize', 'algorithm=lbfgs', 'iter=10000']\n",
            "12:24:37 - cmdstanpy - INFO - Chain [1] start processing\n",
            "INFO:cmdstanpy:Chain [1] start processing\n",
            "12:24:37 - cmdstanpy - INFO - Chain [1] done processing\n",
            "INFO:cmdstanpy:Chain [1] done processing\n",
            "INFO:prophet:Disabling weekly seasonality. Run prophet with weekly_seasonality=True to override this.\n",
            "INFO:prophet:Disabling daily seasonality. Run prophet with daily_seasonality=True to override this.\n",
            "DEBUG:cmdstanpy:input tempfile: /tmp/tmp9v9ce7ms/ye_dnp8j.json\n"
          ]
        },
        {
          "output_type": "stream",
          "name": "stdout",
          "text": [
            "Training Prophet for: Ohio\n",
            "Training Prophet for: Oklahoma\n"
          ]
        },
        {
          "output_type": "stream",
          "name": "stderr",
          "text": [
            "DEBUG:cmdstanpy:input tempfile: /tmp/tmp9v9ce7ms/dypp1l_g.json\n",
            "DEBUG:cmdstanpy:idx 0\n",
            "DEBUG:cmdstanpy:running CmdStan, num_threads: None\n",
            "DEBUG:cmdstanpy:CmdStan args: ['/usr/local/lib/python3.12/dist-packages/prophet/stan_model/prophet_model.bin', 'random', 'seed=78186', 'data', 'file=/tmp/tmp9v9ce7ms/ye_dnp8j.json', 'init=/tmp/tmp9v9ce7ms/dypp1l_g.json', 'output', 'file=/tmp/tmp9v9ce7ms/prophet_modelkk547mw1/prophet_model-20251003122437.csv', 'method=optimize', 'algorithm=lbfgs', 'iter=10000']\n",
            "12:24:37 - cmdstanpy - INFO - Chain [1] start processing\n",
            "INFO:cmdstanpy:Chain [1] start processing\n",
            "12:24:37 - cmdstanpy - INFO - Chain [1] done processing\n",
            "INFO:cmdstanpy:Chain [1] done processing\n",
            "INFO:prophet:Disabling weekly seasonality. Run prophet with weekly_seasonality=True to override this.\n",
            "INFO:prophet:Disabling daily seasonality. Run prophet with daily_seasonality=True to override this.\n",
            "DEBUG:cmdstanpy:input tempfile: /tmp/tmp9v9ce7ms/6z5btz2r.json\n",
            "DEBUG:cmdstanpy:input tempfile: /tmp/tmp9v9ce7ms/r0i1pm27.json\n",
            "DEBUG:cmdstanpy:idx 0\n",
            "DEBUG:cmdstanpy:running CmdStan, num_threads: None\n",
            "DEBUG:cmdstanpy:CmdStan args: ['/usr/local/lib/python3.12/dist-packages/prophet/stan_model/prophet_model.bin', 'random', 'seed=92144', 'data', 'file=/tmp/tmp9v9ce7ms/6z5btz2r.json', 'init=/tmp/tmp9v9ce7ms/r0i1pm27.json', 'output', 'file=/tmp/tmp9v9ce7ms/prophet_modelc5zzjh7p/prophet_model-20251003122437.csv', 'method=optimize', 'algorithm=lbfgs', 'iter=10000']\n",
            "12:24:37 - cmdstanpy - INFO - Chain [1] start processing\n",
            "INFO:cmdstanpy:Chain [1] start processing\n",
            "12:24:38 - cmdstanpy - INFO - Chain [1] done processing\n",
            "INFO:cmdstanpy:Chain [1] done processing\n",
            "INFO:prophet:Disabling weekly seasonality. Run prophet with weekly_seasonality=True to override this.\n",
            "INFO:prophet:Disabling daily seasonality. Run prophet with daily_seasonality=True to override this.\n"
          ]
        },
        {
          "output_type": "stream",
          "name": "stdout",
          "text": [
            "Training Prophet for: Oregon\n",
            "Training Prophet for: Pennsylvania\n"
          ]
        },
        {
          "output_type": "stream",
          "name": "stderr",
          "text": [
            "DEBUG:cmdstanpy:input tempfile: /tmp/tmp9v9ce7ms/kgi__9ko.json\n",
            "DEBUG:cmdstanpy:input tempfile: /tmp/tmp9v9ce7ms/mtl10o89.json\n",
            "DEBUG:cmdstanpy:idx 0\n",
            "DEBUG:cmdstanpy:running CmdStan, num_threads: None\n",
            "DEBUG:cmdstanpy:CmdStan args: ['/usr/local/lib/python3.12/dist-packages/prophet/stan_model/prophet_model.bin', 'random', 'seed=55255', 'data', 'file=/tmp/tmp9v9ce7ms/kgi__9ko.json', 'init=/tmp/tmp9v9ce7ms/mtl10o89.json', 'output', 'file=/tmp/tmp9v9ce7ms/prophet_modeladhdhdlg/prophet_model-20251003122438.csv', 'method=optimize', 'algorithm=lbfgs', 'iter=10000']\n",
            "12:24:38 - cmdstanpy - INFO - Chain [1] start processing\n",
            "INFO:cmdstanpy:Chain [1] start processing\n",
            "12:24:38 - cmdstanpy - INFO - Chain [1] done processing\n",
            "INFO:cmdstanpy:Chain [1] done processing\n",
            "INFO:prophet:Disabling weekly seasonality. Run prophet with weekly_seasonality=True to override this.\n",
            "INFO:prophet:Disabling daily seasonality. Run prophet with daily_seasonality=True to override this.\n",
            "DEBUG:cmdstanpy:input tempfile: /tmp/tmp9v9ce7ms/p4lh2v8l.json\n",
            "DEBUG:cmdstanpy:input tempfile: /tmp/tmp9v9ce7ms/ta5f6jbz.json\n",
            "DEBUG:cmdstanpy:idx 0\n",
            "DEBUG:cmdstanpy:running CmdStan, num_threads: None\n",
            "DEBUG:cmdstanpy:CmdStan args: ['/usr/local/lib/python3.12/dist-packages/prophet/stan_model/prophet_model.bin', 'random', 'seed=66564', 'data', 'file=/tmp/tmp9v9ce7ms/p4lh2v8l.json', 'init=/tmp/tmp9v9ce7ms/ta5f6jbz.json', 'output', 'file=/tmp/tmp9v9ce7ms/prophet_modelqfdefg43/prophet_model-20251003122438.csv', 'method=optimize', 'algorithm=lbfgs', 'iter=10000']\n",
            "12:24:38 - cmdstanpy - INFO - Chain [1] start processing\n",
            "INFO:cmdstanpy:Chain [1] start processing\n",
            "12:24:38 - cmdstanpy - INFO - Chain [1] done processing\n"
          ]
        },
        {
          "output_type": "stream",
          "name": "stdout",
          "text": [
            "Training Prophet for: RhodeIsland\n"
          ]
        },
        {
          "output_type": "stream",
          "name": "stderr",
          "text": [
            "INFO:cmdstanpy:Chain [1] done processing\n",
            "INFO:prophet:Disabling weekly seasonality. Run prophet with weekly_seasonality=True to override this.\n",
            "INFO:prophet:Disabling daily seasonality. Run prophet with daily_seasonality=True to override this.\n",
            "DEBUG:cmdstanpy:input tempfile: /tmp/tmp9v9ce7ms/rx33ykig.json\n",
            "DEBUG:cmdstanpy:input tempfile: /tmp/tmp9v9ce7ms/1imuju8a.json\n",
            "DEBUG:cmdstanpy:idx 0\n",
            "DEBUG:cmdstanpy:running CmdStan, num_threads: None\n",
            "DEBUG:cmdstanpy:CmdStan args: ['/usr/local/lib/python3.12/dist-packages/prophet/stan_model/prophet_model.bin', 'random', 'seed=51200', 'data', 'file=/tmp/tmp9v9ce7ms/rx33ykig.json', 'init=/tmp/tmp9v9ce7ms/1imuju8a.json', 'output', 'file=/tmp/tmp9v9ce7ms/prophet_modelrs91yf06/prophet_model-20251003122438.csv', 'method=optimize', 'algorithm=lbfgs', 'iter=10000']\n",
            "12:24:38 - cmdstanpy - INFO - Chain [1] start processing\n",
            "INFO:cmdstanpy:Chain [1] start processing\n",
            "12:24:38 - cmdstanpy - INFO - Chain [1] done processing\n",
            "INFO:cmdstanpy:Chain [1] done processing\n",
            "INFO:prophet:Disabling weekly seasonality. Run prophet with weekly_seasonality=True to override this.\n",
            "INFO:prophet:Disabling daily seasonality. Run prophet with daily_seasonality=True to override this.\n",
            "DEBUG:cmdstanpy:input tempfile: /tmp/tmp9v9ce7ms/i3xegexe.json\n",
            "DEBUG:cmdstanpy:input tempfile: /tmp/tmp9v9ce7ms/29s_6eqj.json\n",
            "DEBUG:cmdstanpy:idx 0\n",
            "DEBUG:cmdstanpy:running CmdStan, num_threads: None\n",
            "DEBUG:cmdstanpy:CmdStan args: ['/usr/local/lib/python3.12/dist-packages/prophet/stan_model/prophet_model.bin', 'random', 'seed=48023', 'data', 'file=/tmp/tmp9v9ce7ms/i3xegexe.json', 'init=/tmp/tmp9v9ce7ms/29s_6eqj.json', 'output', 'file=/tmp/tmp9v9ce7ms/prophet_modelqioy64go/prophet_model-20251003122438.csv', 'method=optimize', 'algorithm=lbfgs', 'iter=10000']\n",
            "12:24:38 - cmdstanpy - INFO - Chain [1] start processing\n",
            "INFO:cmdstanpy:Chain [1] start processing\n"
          ]
        },
        {
          "output_type": "stream",
          "name": "stdout",
          "text": [
            "Training Prophet for: SouthCarolina\n",
            "Training Prophet for: SouthDakota\n"
          ]
        },
        {
          "output_type": "stream",
          "name": "stderr",
          "text": [
            "12:24:38 - cmdstanpy - INFO - Chain [1] done processing\n",
            "INFO:cmdstanpy:Chain [1] done processing\n",
            "INFO:prophet:Disabling weekly seasonality. Run prophet with weekly_seasonality=True to override this.\n",
            "INFO:prophet:Disabling daily seasonality. Run prophet with daily_seasonality=True to override this.\n",
            "DEBUG:cmdstanpy:input tempfile: /tmp/tmp9v9ce7ms/t8lw31wc.json\n",
            "DEBUG:cmdstanpy:input tempfile: /tmp/tmp9v9ce7ms/9abstvlr.json\n",
            "DEBUG:cmdstanpy:idx 0\n",
            "DEBUG:cmdstanpy:running CmdStan, num_threads: None\n",
            "DEBUG:cmdstanpy:CmdStan args: ['/usr/local/lib/python3.12/dist-packages/prophet/stan_model/prophet_model.bin', 'random', 'seed=93438', 'data', 'file=/tmp/tmp9v9ce7ms/t8lw31wc.json', 'init=/tmp/tmp9v9ce7ms/9abstvlr.json', 'output', 'file=/tmp/tmp9v9ce7ms/prophet_model23irbb57/prophet_model-20251003122438.csv', 'method=optimize', 'algorithm=lbfgs', 'iter=10000']\n",
            "12:24:38 - cmdstanpy - INFO - Chain [1] start processing\n",
            "INFO:cmdstanpy:Chain [1] start processing\n",
            "12:24:38 - cmdstanpy - INFO - Chain [1] done processing\n",
            "INFO:cmdstanpy:Chain [1] done processing\n",
            "INFO:prophet:Disabling weekly seasonality. Run prophet with weekly_seasonality=True to override this.\n",
            "INFO:prophet:Disabling daily seasonality. Run prophet with daily_seasonality=True to override this.\n",
            "DEBUG:cmdstanpy:input tempfile: /tmp/tmp9v9ce7ms/6f14ip6a.json\n",
            "DEBUG:cmdstanpy:input tempfile: /tmp/tmp9v9ce7ms/t4_bhajw.json\n",
            "DEBUG:cmdstanpy:idx 0\n",
            "DEBUG:cmdstanpy:running CmdStan, num_threads: None\n",
            "DEBUG:cmdstanpy:CmdStan args: ['/usr/local/lib/python3.12/dist-packages/prophet/stan_model/prophet_model.bin', 'random', 'seed=9886', 'data', 'file=/tmp/tmp9v9ce7ms/6f14ip6a.json', 'init=/tmp/tmp9v9ce7ms/t4_bhajw.json', 'output', 'file=/tmp/tmp9v9ce7ms/prophet_modelgsbw0g6c/prophet_model-20251003122438.csv', 'method=optimize', 'algorithm=lbfgs', 'iter=10000']\n",
            "12:24:38 - cmdstanpy - INFO - Chain [1] start processing\n",
            "INFO:cmdstanpy:Chain [1] start processing\n"
          ]
        },
        {
          "output_type": "stream",
          "name": "stdout",
          "text": [
            "Training Prophet for: Tennessee\n",
            "Training Prophet for: Texas\n"
          ]
        },
        {
          "output_type": "stream",
          "name": "stderr",
          "text": [
            "12:24:39 - cmdstanpy - INFO - Chain [1] done processing\n",
            "INFO:cmdstanpy:Chain [1] done processing\n",
            "INFO:prophet:Disabling weekly seasonality. Run prophet with weekly_seasonality=True to override this.\n",
            "INFO:prophet:Disabling daily seasonality. Run prophet with daily_seasonality=True to override this.\n",
            "DEBUG:cmdstanpy:input tempfile: /tmp/tmp9v9ce7ms/_mfj_ovn.json\n",
            "DEBUG:cmdstanpy:input tempfile: /tmp/tmp9v9ce7ms/jg_r8m8m.json\n",
            "DEBUG:cmdstanpy:idx 0\n",
            "DEBUG:cmdstanpy:running CmdStan, num_threads: None\n",
            "DEBUG:cmdstanpy:CmdStan args: ['/usr/local/lib/python3.12/dist-packages/prophet/stan_model/prophet_model.bin', 'random', 'seed=87905', 'data', 'file=/tmp/tmp9v9ce7ms/_mfj_ovn.json', 'init=/tmp/tmp9v9ce7ms/jg_r8m8m.json', 'output', 'file=/tmp/tmp9v9ce7ms/prophet_model7vi4i4yc/prophet_model-20251003122439.csv', 'method=optimize', 'algorithm=lbfgs', 'iter=10000']\n",
            "12:24:39 - cmdstanpy - INFO - Chain [1] start processing\n",
            "INFO:cmdstanpy:Chain [1] start processing\n"
          ]
        },
        {
          "output_type": "stream",
          "name": "stdout",
          "text": [
            "Training Prophet for: Utah\n"
          ]
        },
        {
          "output_type": "stream",
          "name": "stderr",
          "text": [
            "12:24:39 - cmdstanpy - INFO - Chain [1] done processing\n",
            "INFO:cmdstanpy:Chain [1] done processing\n",
            "INFO:prophet:Disabling weekly seasonality. Run prophet with weekly_seasonality=True to override this.\n",
            "INFO:prophet:Disabling daily seasonality. Run prophet with daily_seasonality=True to override this.\n",
            "DEBUG:cmdstanpy:input tempfile: /tmp/tmp9v9ce7ms/wux0hqps.json\n",
            "DEBUG:cmdstanpy:input tempfile: /tmp/tmp9v9ce7ms/pj5wc7x1.json\n",
            "DEBUG:cmdstanpy:idx 0\n",
            "DEBUG:cmdstanpy:running CmdStan, num_threads: None\n",
            "DEBUG:cmdstanpy:CmdStan args: ['/usr/local/lib/python3.12/dist-packages/prophet/stan_model/prophet_model.bin', 'random', 'seed=75670', 'data', 'file=/tmp/tmp9v9ce7ms/wux0hqps.json', 'init=/tmp/tmp9v9ce7ms/pj5wc7x1.json', 'output', 'file=/tmp/tmp9v9ce7ms/prophet_modelkxfm2tco/prophet_model-20251003122439.csv', 'method=optimize', 'algorithm=lbfgs', 'iter=10000']\n",
            "12:24:39 - cmdstanpy - INFO - Chain [1] start processing\n",
            "INFO:cmdstanpy:Chain [1] start processing\n",
            "12:24:39 - cmdstanpy - INFO - Chain [1] done processing\n",
            "INFO:cmdstanpy:Chain [1] done processing\n",
            "INFO:prophet:Disabling weekly seasonality. Run prophet with weekly_seasonality=True to override this.\n",
            "INFO:prophet:Disabling daily seasonality. Run prophet with daily_seasonality=True to override this.\n",
            "DEBUG:cmdstanpy:input tempfile: /tmp/tmp9v9ce7ms/_1v6guvf.json\n",
            "DEBUG:cmdstanpy:input tempfile: /tmp/tmp9v9ce7ms/zd1sneh5.json\n",
            "DEBUG:cmdstanpy:idx 0\n",
            "DEBUG:cmdstanpy:running CmdStan, num_threads: None\n",
            "DEBUG:cmdstanpy:CmdStan args: ['/usr/local/lib/python3.12/dist-packages/prophet/stan_model/prophet_model.bin', 'random', 'seed=29166', 'data', 'file=/tmp/tmp9v9ce7ms/_1v6guvf.json', 'init=/tmp/tmp9v9ce7ms/zd1sneh5.json', 'output', 'file=/tmp/tmp9v9ce7ms/prophet_modelbkp9lbmh/prophet_model-20251003122439.csv', 'method=optimize', 'algorithm=lbfgs', 'iter=10000']\n",
            "12:24:39 - cmdstanpy - INFO - Chain [1] start processing\n",
            "INFO:cmdstanpy:Chain [1] start processing\n"
          ]
        },
        {
          "output_type": "stream",
          "name": "stdout",
          "text": [
            "Training Prophet for: Vermont\n",
            "Training Prophet for: Virginia\n"
          ]
        },
        {
          "output_type": "stream",
          "name": "stderr",
          "text": [
            "12:24:39 - cmdstanpy - INFO - Chain [1] done processing\n",
            "INFO:cmdstanpy:Chain [1] done processing\n",
            "INFO:prophet:Disabling weekly seasonality. Run prophet with weekly_seasonality=True to override this.\n",
            "INFO:prophet:Disabling daily seasonality. Run prophet with daily_seasonality=True to override this.\n",
            "DEBUG:cmdstanpy:input tempfile: /tmp/tmp9v9ce7ms/khwbpa0n.json\n",
            "DEBUG:cmdstanpy:input tempfile: /tmp/tmp9v9ce7ms/9iahkuli.json\n",
            "DEBUG:cmdstanpy:idx 0\n",
            "DEBUG:cmdstanpy:running CmdStan, num_threads: None\n",
            "DEBUG:cmdstanpy:CmdStan args: ['/usr/local/lib/python3.12/dist-packages/prophet/stan_model/prophet_model.bin', 'random', 'seed=41466', 'data', 'file=/tmp/tmp9v9ce7ms/khwbpa0n.json', 'init=/tmp/tmp9v9ce7ms/9iahkuli.json', 'output', 'file=/tmp/tmp9v9ce7ms/prophet_modelc36_3nzi/prophet_model-20251003122439.csv', 'method=optimize', 'algorithm=lbfgs', 'iter=10000']\n",
            "12:24:39 - cmdstanpy - INFO - Chain [1] start processing\n",
            "INFO:cmdstanpy:Chain [1] start processing\n",
            "12:24:39 - cmdstanpy - INFO - Chain [1] done processing\n",
            "INFO:cmdstanpy:Chain [1] done processing\n",
            "INFO:prophet:Disabling weekly seasonality. Run prophet with weekly_seasonality=True to override this.\n",
            "INFO:prophet:Disabling daily seasonality. Run prophet with daily_seasonality=True to override this.\n"
          ]
        },
        {
          "output_type": "stream",
          "name": "stdout",
          "text": [
            "Training Prophet for: Washington\n",
            "Training Prophet for: WestVirginia\n"
          ]
        },
        {
          "output_type": "stream",
          "name": "stderr",
          "text": [
            "DEBUG:cmdstanpy:input tempfile: /tmp/tmp9v9ce7ms/fm5e3jlr.json\n",
            "DEBUG:cmdstanpy:input tempfile: /tmp/tmp9v9ce7ms/gqcwb1on.json\n",
            "DEBUG:cmdstanpy:idx 0\n",
            "DEBUG:cmdstanpy:running CmdStan, num_threads: None\n",
            "DEBUG:cmdstanpy:CmdStan args: ['/usr/local/lib/python3.12/dist-packages/prophet/stan_model/prophet_model.bin', 'random', 'seed=32284', 'data', 'file=/tmp/tmp9v9ce7ms/fm5e3jlr.json', 'init=/tmp/tmp9v9ce7ms/gqcwb1on.json', 'output', 'file=/tmp/tmp9v9ce7ms/prophet_model7fz1_se8/prophet_model-20251003122439.csv', 'method=optimize', 'algorithm=lbfgs', 'iter=10000']\n",
            "12:24:39 - cmdstanpy - INFO - Chain [1] start processing\n",
            "INFO:cmdstanpy:Chain [1] start processing\n",
            "12:24:39 - cmdstanpy - INFO - Chain [1] done processing\n",
            "INFO:cmdstanpy:Chain [1] done processing\n",
            "INFO:prophet:Disabling weekly seasonality. Run prophet with weekly_seasonality=True to override this.\n",
            "INFO:prophet:Disabling daily seasonality. Run prophet with daily_seasonality=True to override this.\n",
            "DEBUG:cmdstanpy:input tempfile: /tmp/tmp9v9ce7ms/ac1mdz8r.json\n",
            "DEBUG:cmdstanpy:input tempfile: /tmp/tmp9v9ce7ms/m4chekwy.json\n",
            "DEBUG:cmdstanpy:idx 0\n",
            "DEBUG:cmdstanpy:running CmdStan, num_threads: None\n",
            "DEBUG:cmdstanpy:CmdStan args: ['/usr/local/lib/python3.12/dist-packages/prophet/stan_model/prophet_model.bin', 'random', 'seed=15099', 'data', 'file=/tmp/tmp9v9ce7ms/ac1mdz8r.json', 'init=/tmp/tmp9v9ce7ms/m4chekwy.json', 'output', 'file=/tmp/tmp9v9ce7ms/prophet_modeliufuue2b/prophet_model-20251003122439.csv', 'method=optimize', 'algorithm=lbfgs', 'iter=10000']\n",
            "12:24:39 - cmdstanpy - INFO - Chain [1] start processing\n",
            "INFO:cmdstanpy:Chain [1] start processing\n",
            "12:24:40 - cmdstanpy - INFO - Chain [1] done processing\n",
            "INFO:cmdstanpy:Chain [1] done processing\n",
            "INFO:prophet:Disabling weekly seasonality. Run prophet with weekly_seasonality=True to override this.\n",
            "INFO:prophet:Disabling daily seasonality. Run prophet with daily_seasonality=True to override this.\n"
          ]
        },
        {
          "output_type": "stream",
          "name": "stdout",
          "text": [
            "Training Prophet for: Wisconsin\n",
            "Training Prophet for: Wyoming\n"
          ]
        },
        {
          "output_type": "stream",
          "name": "stderr",
          "text": [
            "DEBUG:cmdstanpy:input tempfile: /tmp/tmp9v9ce7ms/9vjxe6or.json\n",
            "DEBUG:cmdstanpy:input tempfile: /tmp/tmp9v9ce7ms/z0m5yp8x.json\n",
            "DEBUG:cmdstanpy:idx 0\n",
            "DEBUG:cmdstanpy:running CmdStan, num_threads: None\n",
            "DEBUG:cmdstanpy:CmdStan args: ['/usr/local/lib/python3.12/dist-packages/prophet/stan_model/prophet_model.bin', 'random', 'seed=70024', 'data', 'file=/tmp/tmp9v9ce7ms/9vjxe6or.json', 'init=/tmp/tmp9v9ce7ms/z0m5yp8x.json', 'output', 'file=/tmp/tmp9v9ce7ms/prophet_model241ojdzy/prophet_model-20251003122440.csv', 'method=optimize', 'algorithm=lbfgs', 'iter=10000']\n",
            "12:24:40 - cmdstanpy - INFO - Chain [1] start processing\n",
            "INFO:cmdstanpy:Chain [1] start processing\n",
            "12:24:40 - cmdstanpy - INFO - Chain [1] done processing\n",
            "INFO:cmdstanpy:Chain [1] done processing\n"
          ]
        },
        {
          "output_type": "stream",
          "name": "stdout",
          "text": [
            "All 52 region models trained and saved into prophet_models.pkl\n"
          ]
        }
      ]
    },
    {
      "cell_type": "markdown",
      "source": [
        "save them"
      ],
      "metadata": {
        "id": "gfKNmUH3DAwV"
      }
    },
    {
      "cell_type": "code",
      "source": [
        "import joblib\n",
        "import matplotlib.pyplot as plt\n",
        "\n",
        "# Load all trained models\n",
        "models = joblib.load(\"prophet_models.pkl\")\n",
        "\n",
        "# Example: Forecast for one region (say California)\n",
        "region = \"California\"\n",
        "model = models[region]\n",
        "\n",
        "# Create future dataframe (next 12 months)\n",
        "future = model.make_future_dataframe(periods=12, freq=\"M\")\n",
        "forecast = model.predict(future)\n",
        "\n",
        "# Show forecast\n",
        "print(forecast[[\"ds\", \"yhat\", \"yhat_lower\", \"yhat_upper\"]].tail())\n",
        "\n",
        "# Plot forecast\n",
        "fig = model.plot(forecast)\n",
        "plt.title(f\"Forecast for {region}\")\n",
        "plt.show()\n"
      ],
      "metadata": {
        "id": "xiDi5lzZO_P-",
        "colab": {
          "base_uri": "https://localhost:8080/",
          "height": 768
        },
        "outputId": "78d7a461-0d2b-4d12-9b81-dd2275c381f1"
      },
      "execution_count": null,
      "outputs": [
        {
          "output_type": "stream",
          "name": "stderr",
          "text": [
            "/usr/local/lib/python3.12/dist-packages/prophet/forecaster.py:1872: FutureWarning: 'M' is deprecated and will be removed in a future version, please use 'ME' instead.\n",
            "  dates = pd.date_range(\n"
          ]
        },
        {
          "output_type": "stream",
          "name": "stdout",
          "text": [
            "            ds           yhat     yhat_lower     yhat_upper\n",
            "268 2018-08-31  540365.335795  531705.880287  548876.646348\n",
            "269 2018-09-30  543154.514242  531966.943959  553190.438077\n",
            "270 2018-10-31  545910.493494  533543.204804  556933.151318\n",
            "271 2018-11-30  548653.569992  532775.876670  563165.667313\n",
            "272 2018-12-31  550956.752203  533763.458205  566442.998064\n"
          ]
        },
        {
          "output_type": "display_data",
          "data": {
            "text/plain": [
              "<Figure size 1000x600 with 1 Axes>"
            ],
            "image/png": "[encoded data removed]"
          },
          "metadata": {}
        }
      ]
    },
    {
      "cell_type": "code",
      "source": [],
      "metadata": {
        "id": "hxAA6r3TQzyM"
      },
      "execution_count": null,
      "outputs": []
    }
  ],
  "metadata": {
    "colab": {
      "provenance": []
    },
    "kernelspec": {
      "display_name": "Python 3",
      "name": "python3"
    },
    "language_info": {
      "name": "python"
    }
  },
  "nbformat": 4,
  "nbformat_minor": 0
}